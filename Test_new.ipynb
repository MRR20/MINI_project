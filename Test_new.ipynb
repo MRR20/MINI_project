{
 "cells": [
  {
   "cell_type": "code",
   "execution_count": 1,
   "metadata": {},
   "outputs": [
    {
     "name": "stdout",
     "output_type": "stream",
     "text": [
      "cpu\n"
     ]
    }
   ],
   "source": [
    "import torch\n",
    "\n",
    "USE_CUDA = False\n",
    "\n",
    "mod = torch.nn.Linear(20, 30)\n",
    "if USE_CUDA:\n",
    "    mod.cuda()\n",
    "\n",
    "device = 'cpu'\n",
    "if USE_CUDA:\n",
    "    device = 'cuda'\n",
    "inp = torch.randn(128, 20, device=device)\n",
    "print(mod(inp).device)"
   ]
  },
  {
   "cell_type": "markdown",
   "metadata": {},
   "source": [
    "**Steps**\n",
    "\n",
    "1. Data collection function\n",
    "2. Training Loop\n",
    "3. Prediction and Visualization"
   ]
  },
  {
   "cell_type": "code",
   "execution_count": 10,
   "metadata": {},
   "outputs": [
    {
     "name": "stdout",
     "output_type": "stream",
     "text": [
      "    timestamp    open    high     low   close     volume\n",
      "0  2024-11-20  147.41  147.56  142.73  145.89  274811040\n",
      "1  2024-11-19  141.32  147.13  140.99  147.01  227834912\n",
      "2  2024-11-18  139.50  141.55  137.15  140.15  221865993\n",
      "3  2024-11-15  144.87  145.24  140.08  141.98  250132869\n",
      "4  2024-11-14  147.64  149.00  145.55  146.76  194463301\n",
      "6305\n"
     ]
    }
   ],
   "source": [
    "import requests\n",
    "import pandas as pd\n",
    "from io import StringIO\n",
    "\n",
    "class StockData:\n",
    "    def __init__(self, stock_name):\n",
    "        self.stock_name = stock_name\n",
    "\n",
    "    def stock_data(self):\n",
    "        api_key = \"COOFAIV9AV9SVV19\"\n",
    "        url = f'https://www.alphavantage.co/query?function=TIME_SERIES_DAILY&outputsize=full&symbol={self.stock_name}&apikey={api_key}&datatype=csv'\n",
    "        r = requests.get(url)\n",
    "        return r.text\n",
    "\n",
    "sd = StockData(\"NVDA\")\n",
    "data1 = sd.stock_data()\n",
    "df = pd.read_csv(StringIO(data1))\n",
    "\n",
    "print(df.head())\n",
    "print(len(df['close']))"
   ]
  },
  {
   "cell_type": "code",
   "execution_count": null,
   "metadata": {},
   "outputs": [],
   "source": []
  }
 ],
 "metadata": {
  "kernelspec": {
   "display_name": "main_env",
   "language": "python",
   "name": "python3"
  },
  "language_info": {
   "codemirror_mode": {
    "name": "ipython",
    "version": 3
   },
   "file_extension": ".py",
   "mimetype": "text/x-python",
   "name": "python",
   "nbconvert_exporter": "python",
   "pygments_lexer": "ipython3",
   "version": "3.9.20"
  }
 },
 "nbformat": 4,
 "nbformat_minor": 2
}
