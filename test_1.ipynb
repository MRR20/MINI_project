{
 "cells": [
  {
   "cell_type": "code",
   "execution_count": null,
   "metadata": {},
   "outputs": [],
   "source": [
    "#test_1 for data collection"
   ]
  },
  {
   "cell_type": "code",
   "execution_count": null,
   "metadata": {},
   "outputs": [],
   "source": [
    "#1. data processing\n",
    "#2. get the data of opening and closing rate\n",
    "#3. get news data of that particular date\n",
    "#4. perform sentiment analysis on new data\n",
    "#5. get sentiment score\n",
    "#6. get the avg of compound data\n",
    "#7. test regression model using stock and avg data\n",
    "#8. compare with stock prices of next day\n",
    "#9. find loss\n",
    "#10. train until model reaches required accuracy"
   ]
  },
  {
   "cell_type": "code",
   "execution_count": 11,
   "metadata": {
    "tags": []
   },
   "outputs": [],
   "source": [
    "# import pandas as pd"
   ]
  },
  {
   "cell_type": "code",
   "execution_count": 1,
   "metadata": {
    "tags": []
   },
   "outputs": [],
   "source": [
    "# import requests\n",
    "\n",
    "# company = \"NVDA\"\n",
    "# api_key = \"COOFAIV9AV9SVV19\"\n",
    "# url = f'https://www.alphavantage.co/query?function=TIME_SERIES_DAILY&outputsize=full&symbol={company}&apikey={api_key}&datatype=csv'\n",
    "# r = requests.get(url)\n",
    "# data = r.text\n",
    "\n",
    "# print(data)"
   ]
  },
  {
   "cell_type": "code",
   "execution_count": 2,
   "metadata": {
    "tags": []
   },
   "outputs": [],
   "source": [
    "# csv_filename = 'Nvidia_data.csv'\n",
    "# with open(csv_filename, 'w', newline='') as file:\n",
    "#     file.write(data)\n",
    "\n",
    "# print(f'Data saved to {csv_filename}')"
   ]
  },
  {
   "cell_type": "code",
   "execution_count": 7,
   "metadata": {},
   "outputs": [
    {
     "name": "stdout",
     "output_type": "stream",
     "text": [
      "{'status': 'ok', 'totalResults': 58, 'articles': [{'source': {'id': 'google-news', 'name': 'Google News'}, 'author': 'CNN', 'title': 'Trump once trashed bitcoin as ‘based on thin air.’ Now, he’s addressing crypto’s largest convention - CNN', 'description': None, 'url': 'https://news.google.com/rss/articles/CBMiVmh0dHBzOi8vd3d3LmNubi5jb20vMjAyNC8wNy8yNy9wb2xpdGljcy9kb25hbGQtdHJ1bXAtYml0Y29pbi1jcnlwdG9jdXJyZW5jeS9pbmRleC5odG1s0gFPaHR0cHM6Ly9hbXAuY25uLmNvbS9jbm4vMjAyNC8wNy8yNy9wb2xpdGljcy9kb25hbGQtdHJ1bXAtYml0Y29pbi1jcnlwdG9jdXJyZW5jeQ?oc=5', 'urlToImage': None, 'publishedAt': '2024-07-28T00:02:00Z', 'content': None}, {'source': {'id': 'google-news', 'name': 'Google News'}, 'author': 'Bitcoinist', 'title': 'Bitcoin 2024: US Senator Fights To Bring Crypto Back Into The Communities - Bitcoinist', 'description': None, 'url': 'https://news.google.com/rss/articles/CBMiYGh0dHBzOi8vYml0Y29pbmlzdC5jb20vYml0Y29pbi0yMDI0LXVzLXNlbmF0b3ItZmlnaHRzLXRvLWJyaW5nLWNyeXB0by1iYWNrLWludG8tdGhlLWNvbW11bml0aWVzL9IBZGh0dHBzOi8vYml0Y29pbmlzdC5jb20vYml0Y29pbi0yMDI0LXVzLXNlbmF0b3ItZmlnaHRzLXRvLWJyaW5nLWNyeXB0by1iYWNrLWludG8tdGhlLWNvbW11bml0aWVzL2FtcC8?oc=5', 'urlToImage': None, 'publishedAt': '2024-07-28T00:00:50Z', 'content': None}, {'source': {'id': 'google-news', 'name': 'Google News'}, 'author': 'New York Post ', 'title': 'Elderly couple files first lawsuit in Boar’s Head’s multistate listeria outbreak over ‘damage to the marital relationship’ - New York Post ', 'description': None, 'url': 'https://news.google.com/rss/articles/CBMiWWh0dHBzOi8vbnlwb3N0LmNvbS8yMDI0LzA3LzI3L3VzLW5ld3MvYm9hcnMtaGVhZHMtc3VlZC1vdmVyLW11bHRpc3RhdGUtbGlzdGVyaWEtb3V0YnJlYWsv0gEA?oc=5', 'urlToImage': None, 'publishedAt': '2024-07-27T21:55:00Z', 'content': None}, {'source': {'id': 'google-news', 'name': 'Google News'}, 'author': 'KABC-TV', 'title': 'Mega Millions lottery ticket worth $415,055 sold at La Palma liquor store - KABC-TV', 'description': None, 'url': 'https://news.google.com/rss/articles/CBMiVWh0dHBzOi8vYWJjNy5jb20vcG9zdC9tZWdhLW1pbGxpb25zLWxvdHRlcnktdGlja2V0LXdvcnRoLTQxNTA1NS1zb2xkLW9yYW5nZS8xNTEwNTg1Ni_SAQA?oc=5', 'urlToImage': None, 'publishedAt': '2024-07-27T20:58:36Z', 'content': None}, {'source': {'id': 'google-news', 'name': 'Google News'}, 'author': 'New York Post ', 'title': 'Guacamole, salsa recalled in multiple states due to listeria risk - New York Post ', 'description': None, 'url': 'https://news.google.com/rss/articles/CBMigAFodHRwczovL255cG9zdC5jb20vMjAyNC8wNy8yNy91cy1uZXdzL2d1YWNhbW9sZS1zYWxzYS1yZWNhbGxlZC1hdC1rcm9nZXItZ3JvY2VyeS1zdG9yZXMtaW4tbXVsdGlwbGUtc3RhdGVzLWR1ZS10by1saXN0ZXJpYS1yaXNrL9IBAA?oc=5', 'urlToImage': None, 'publishedAt': '2024-07-27T20:40:00Z', 'content': None}, {'source': {'id': 'google-news', 'name': 'Google News'}, 'author': 'CNN', 'title': 'How sober bars are redefining nightlife - CNN', 'description': None, 'url': 'https://news.google.com/rss/articles/CBMiW2h0dHBzOi8vd3d3LmNubi5jb20vMjAyNC8wNy8yNy91cy9zb2Jlci1iYXJzLW1vY2t0YWlscy1hbGNvaG9sLWZyZWUtd2VsbG5lc3MtY2VjL2luZGV4Lmh0bWzSAVRodHRwczovL2FtcC5jbm4uY29tL2Nubi8yMDI0LzA3LzI3L3VzL3NvYmVyLWJhcnMtbW9ja3RhaWxzLWFsY29ob2wtZnJlZS13ZWxsbmVzcy1jZWM?oc=5', 'urlToImage': None, 'publishedAt': '2024-07-27T19:22:00Z', 'content': None}, {'source': {'id': 'google-news', 'name': 'Google News'}, 'author': 'Benzinga', 'title': 'What A Second Trump Presidency Would Mean For Elon Musk And His Many Ventures - Benzinga', 'description': None, 'url': 'https://news.google.com/rss/articles/CBMiemh0dHBzOi8vd3d3LmJlbnppbmdhLmNvbS9uZXdzLzI0LzA3LzM5OTk5NDEwL3doYXQtYS1zZWNvbmQtdHJ1bXAtcHJlc2lkZW5jeS13b3VsZC1tZWFuLWZvci1lbG9uLW11c2stYW5kLWhpcy1tYW55LXZlbnR1cmVz0gEA?oc=5', 'urlToImage': None, 'publishedAt': '2024-07-27T18:40:19Z', 'content': None}, {'source': {'id': 'google-news', 'name': 'Google News'}, 'author': 'Fox Business', 'title': 'Best and worst states to retire in America, according to a new report - Fox Business', 'description': None, 'url': 'https://news.google.com/rss/articles/CBMiTWh0dHBzOi8vd3d3LmZveGJ1c2luZXNzLmNvbS9saWZlc3R5bGUvYmVzdC13b3JzdC1zdGF0ZXMtcmV0aXJlLWFtZXJpY2EtcmVwb3J00gFRaHR0cHM6Ly93d3cuZm94YnVzaW5lc3MuY29tL2xpZmVzdHlsZS9iZXN0LXdvcnN0LXN0YXRlcy1yZXRpcmUtYW1lcmljYS1yZXBvcnQuYW1w?oc=5', 'urlToImage': None, 'publishedAt': '2024-07-27T18:31:00Z', 'content': None}, {'source': {'id': 'google-news', 'name': 'Google News'}, 'author': 'Stereogum', 'title': 'Grimes Shares Mom’s Plea For Elon Musk To Let Them See Her Children, Shows Support For Musk’s Daughter Vivian - Stereogum', 'description': None, 'url': 'https://news.google.com/rss/articles/CBMikgFodHRwczovL3d3dy5zdGVyZW9ndW0uY29tLzIyNzM1MzcvZ3JpbWVzLXNoYXJlcy1tb21zLXBsZWEtZm9yLWVsb24tbXVzay10by1sZXQtdGhlbS1zZWUtaGVyLWNoaWxkcmVuLXNob3dzLXN1cHBvcnQtZm9yLW11c2tzLWRhdWdodGVyLXZpdmlhbi9uZXdzL9IBAA?oc=5', 'urlToImage': None, 'publishedAt': '2024-07-27T18:05:00Z', 'content': None}, {'source': {'id': 'google-news', 'name': 'Google News'}, 'author': 'Daily Mail', 'title': \"Boomtown in red state haven where house prices have tripled - but locals fear it's becoming the next San Franc - Daily Mail\", 'description': None, 'url': 'https://news.google.com/rss/articles/CBMiamh0dHBzOi8vd3d3LmRhaWx5bWFpbC5jby51ay9uZXdzL2FydGljbGUtMTM2MTU4MzkvcmVkLXN0YXRlLWNvdW50eS1ob3VzZS12YWx1ZXMtdHJpcGxlZC1zYW4tZnJhbmNpc2NvLmh0bWzSAW5odHRwczovL3d3dy5kYWlseW1haWwuY28udWsvbmV3cy9hcnRpY2xlLTEzNjE1ODM5L2FtcC9yZWQtc3RhdGUtY291bnR5LWhvdXNlLXZhbHVlcy10cmlwbGVkLXNhbi1mcmFuY2lzY28uaHRtbA?oc=5', 'urlToImage': None, 'publishedAt': '2024-07-27T16:56:13Z', 'content': None}, {'source': {'id': 'google-news', 'name': 'Google News'}, 'author': 'Forbes', 'title': 'Negotiators Reach A Deal, Avoiding Strike At Airline Caterer Gate Gourmet - Forbes', 'description': None, 'url': 'https://news.google.com/rss/articles/CBMieWh0dHBzOi8vd3d3LmZvcmJlcy5jb20vc2l0ZXMvdGVkcmVlZC8yMDI0LzA3LzI3L25lZ290aWF0b3JzLXJlYWNoLWEtZGVhbC1hdm9pZGluZy1zdHJpa2UtYXQtYWlybGluZS1jYXRlcmVyLWdhdGUtZ291cm1ldC_SAQA?oc=5', 'urlToImage': None, 'publishedAt': '2024-07-27T16:22:56Z', 'content': None}, {'source': {'id': 'google-news', 'name': 'Google News'}, 'author': 'The Associated Press', 'title': 'Apple has reached its first-ever union contract with store employees in Maryland - The Associated Press', 'description': None, 'url': 'https://news.google.com/rss/articles/CBMiX2h0dHBzOi8vYXBuZXdzLmNvbS9hcnRpY2xlL2FwcGxlLXVuaW9uLWNvbnRyYWN0LW1hcnlsYW5kLXN0b3JlLWY5ODg0ZDk3OGJmMzEyOWMzNzcyNmRkNzk3ODM5MmE10gEA?oc=5', 'urlToImage': None, 'publishedAt': '2024-07-27T16:13:00Z', 'content': None}, {'source': {'id': 'google-news', 'name': 'Google News'}, 'author': 'WPEC', 'title': 'Boca Raton man accused in $16 million stock manipulation scheme - WPEC', 'description': None, 'url': 'https://news.google.com/rss/articles/CBMimwFodHRwczovL3d3dy5jYnMxMi5jb20vbmV3cy9sb2NhbC9ib2NhLXJhdG9uLW1hbi1hY2N1c2VkLWluLTE2LW1pbGxpb24tc3RvY2stbWFuaXB1bGF0aW9uLXNjaGVtZS1tdWx0aW1pbGxpb24tc2NoZW1lLWZyYXVkLXN0b2NrLXByaWNlcy1mbG9yaWRhLWp1bHktMjctMjAyNNIBmwFodHRwczovL2NiczEyLmNvbS9hbXAvbmV3cy9sb2NhbC9ib2NhLXJhdG9uLW1hbi1hY2N1c2VkLWluLTE2LW1pbGxpb24tc3RvY2stbWFuaXB1bGF0aW9uLXNjaGVtZS1tdWx0aW1pbGxpb24tc2NoZW1lLWZyYXVkLXN0b2NrLXByaWNlcy1mbG9yaWRhLWp1bHktMjctMjAyNA?oc=5', 'urlToImage': None, 'publishedAt': '2024-07-27T16:08:02Z', 'content': None}, {'source': {'id': 'google-news', 'name': 'Google News'}, 'author': 'CNN', 'title': 'Smart moves to make when the Fed starts cutting rates - CNN', 'description': None, 'url': 'https://news.google.com/rss/articles/CBMiVWh0dHBzOi8vd3d3LmNubi5jb20vMjAyNC8wNy8yNy9zdWNjZXNzL2ZlZC1pbnRlcmVzdC1yYXRlLWN1dHMtZGVidC1zYXZpbmdzL2luZGV4Lmh0bWzSAU5odHRwczovL2FtcC5jbm4uY29tL2Nubi8yMDI0LzA3LzI3L3N1Y2Nlc3MvZmVkLWludGVyZXN0LXJhdGUtY3V0cy1kZWJ0LXNhdmluZ3M?oc=5', 'urlToImage': None, 'publishedAt': '2024-07-27T16:00:00Z', 'content': None}, {'source': {'id': 'google-news', 'name': 'Google News'}, 'author': 'WSOC Charlotte', 'title': 'Big Lots closing several stores in Carolinas - WSOC Charlotte', 'description': None, 'url': 'https://news.google.com/rss/articles/CBMiZ2h0dHBzOi8vd3d3Lndzb2N0di5jb20vbmV3cy9sb2NhbC9iaWctbG90cy1jbG9zaW5nLXNldmVyYWwtc3RvcmVzLWNhcm9saW5hcy9RNE1MWlBQRDdKRDJMS0JTT0xTMjRGNEo0NC_SAXZodHRwczovL3d3dy53c29jdHYuY29tL25ld3MvbG9jYWwvYmlnLWxvdHMtY2xvc2luZy1zZXZlcmFsLXN0b3Jlcy1jYXJvbGluYXMvUTRNTFpQUEQ3SkQyTEtCU09MUzI0RjRKNDQvP291dHB1dFR5cGU9YW1w?oc=5', 'urlToImage': None, 'publishedAt': '2024-07-27T15:54:34Z', 'content': None}, {'source': {'id': 'google-news', 'name': 'Google News'}, 'author': 'CoinDesk', 'title': \"Democrats Pushing Harris Campaign for 'Reset' on Crypto Stance, House Rep Says - CoinDesk\", 'description': None, 'url': 'https://news.google.com/rss/articles/CBMid2h0dHBzOi8vd3d3LmNvaW5kZXNrLmNvbS9wb2xpY3kvMjAyNC8wNy8yNy9kZW1vY3JhdHMtcHVzaGluZy1oYXJyaXMtY2FtcGFpZ24tZm9yLXJlc2V0LW9uLWNyeXB0by1zdGFuY2UtaG91c2UtcmVwLXNheXMv0gF7aHR0cHM6Ly93d3cuY29pbmRlc2suY29tL3BvbGljeS8yMDI0LzA3LzI3L2RlbW9jcmF0cy1wdXNoaW5nLWhhcnJpcy1jYW1wYWlnbi1mb3ItcmVzZXQtb24tY3J5cHRvLXN0YW5jZS1ob3VzZS1yZXAtc2F5cy9hbXAv?oc=5', 'urlToImage': None, 'publishedAt': '2024-07-27T15:40:00Z', 'content': None}, {'source': {'id': 'google-news', 'name': 'Google News'}, 'author': 'Yahoo Finance', 'title': 'Why Wall Street is unfazed by Medicare drug pricing threat - Yahoo Finance', 'description': None, 'url': 'https://news.google.com/rss/articles/CBMiaGh0dHBzOi8vZmluYW5jZS55YWhvby5jb20vbmV3cy93aHktd2FsbC1zdHJlZXQtaXMtdW5mYXplZC1ieS1tZWRpY2FyZS1kcnVnLXByaWNpbmctdGhyZWF0LTE1MzExOTIxMS5odG1s0gEA?oc=5', 'urlToImage': None, 'publishedAt': '2024-07-27T15:31:19Z', 'content': None}, {'source': {'id': 'google-news', 'name': 'Google News'}, 'author': 'Newsweek', 'title': \"Putin's Spiraling War Spending Hammers Economy - Newsweek\", 'description': None, 'url': 'https://news.google.com/rss/articles/CBMiT2h0dHBzOi8vd3d3Lm5ld3N3ZWVrLmNvbS9ydXNzaWEtdWtyYWluZS1lY29ub215LWluZmxhdGlvbi1pbnRlcmVzdC1yYXRlLTE5MzEwNDfSAQA?oc=5', 'urlToImage': None, 'publishedAt': '2024-07-27T15:00:51Z', 'content': None}, {'source': {'id': None, 'name': 'Yuvagalam.com'}, 'author': 'Gurmeet', 'title': '$600 COLA Increase for Social Security Payment, SSA received 463K calls in a day - Yuvagalam', 'description': \"The SSA addresses false claims of a $600 Social Security benefit increase, leading to over 463,000 calls in one day. These rumors are incorrect; no COLA adjustments occur until January 2025. Beneficiaries should consult the SSA's official website for accurate…\", 'url': 'https://yuvagalam.com/600-increase-ssi-ssdi-payment/', 'urlToImage': 'https://yuvagalam.com/wp-content/uploads/2024/07/social-security-600-increase-payment.jpg', 'publishedAt': '2024-07-27T14:17:30Z', 'content': 'The Social Security Administration (SSA) addresses widespread misinformation about a supposed $600 increase in Social Security benefits. This section delves deeper into the implications of these fals… [+3549 chars]'}, {'source': {'id': 'google-news', 'name': 'Google News'}, 'author': 'Yahoo Finance', 'title': 'Earnings Derail Stock Rally Over Doubts on AI, Consumer Strength - Yahoo Finance', 'description': None, 'url': 'https://news.google.com/rss/articles/CBMiTmh0dHBzOi8vZmluYW5jZS55YWhvby5jb20vbmV3cy9lYXJuaW5ncy1kZXJhaWwtc3RvY2stcmFsbHktb3Zlci0xMzAwMDE5NDAuaHRtbNIBAA?oc=5', 'urlToImage': None, 'publishedAt': '2024-07-27T13:00:01Z', 'content': None}]}\n"
     ]
    }
   ],
   "source": [
    "# import requests\n",
    "# import csv\n",
    "\n",
    "# url = f'https://newsapi.org/v2/top-headlines?country=us&category=business&apiKey=ec2f586478ff4553a0e17399fd42f45a'\n",
    "# r = requests.get(url)\n",
    "# data = r.json()\n",
    "# print(data)"
   ]
  },
  {
   "cell_type": "code",
   "execution_count": 8,
   "metadata": {},
   "outputs": [],
   "source": [
    "# import requests\n",
    "# import csv\n",
    "\n",
    "# url = f'https://newsapi.org/v2/top-headlines?country=us&category=business&apiKey=ec2f586478ff4553a0e17399fd42f45a'\n",
    "# r = requests.get(url)\n",
    "# data = r.json()\n",
    "\n",
    "# # Open a new CSV file for writing\n",
    "# with open('news_data.csv', 'w', newline='') as csvfile:\n",
    "#     # Create a CSV writer object\n",
    "#     writer = csv.writer(csvfile)\n",
    "\n",
    "#     # Write the header row\n",
    "#     writer.writerow(['Title', 'Description', 'URL', 'Published At'])\n",
    "\n",
    "#     # Iterate over the articles in the JSON data\n",
    "#     for article in data['articles']:\n",
    "#         # Write each article's data as a row in the CSV file\n",
    "#         writer.writerow([article['title'], article['description'], article['url'], article['publishedAt']])"
   ]
  },
  {
   "cell_type": "code",
   "execution_count": 3,
   "metadata": {},
   "outputs": [
    {
     "name": "stdout",
     "output_type": "stream",
     "text": [
      "                                               title  \\\n",
      "0  Bitcoin, Ethereum, Dogecoin Move Sideways As T...   \n",
      "1  What's New In the Consumer Tech World Last Wee...   \n",
      "2  Apple Makes History With First US Union Labor ...   \n",
      "3  Meta Platforms Just Released an Artificial Int...   \n",
      "4  This Undervalued Stock Could Join Alphabet in ...   \n",
      "\n",
      "                                                 url   time_published  \\\n",
      "0  https://www.benzinga.com/markets/cryptocurrenc...  20240729T023039   \n",
      "1  https://www.benzinga.com/news/24/07/40001828/w...  20240728T193955   \n",
      "2  https://www.benzinga.com/news/24/07/40001398/a...  20240728T154208   \n",
      "3  https://www.fool.com/investing/2024/07/28/meta...  20240728T143000   \n",
      "4  https://www.fool.com/investing/2024/07/28/this...  20240728T112000   \n",
      "\n",
      "              authors                                            summary  \\\n",
      "0      [Aniket Verma]  Leading cryptocurrencies held on to their gain...   \n",
      "1       [Lekha Gupta]  Chen Nanxiang, chairman of the China Semicondu...   \n",
      "2    [Benzinga Neuro]  Apple Inc. AAPL and the union representing its...   \n",
      "3  [Billy Duberstein]  Meta just came out with its newest frontier AI...   \n",
      "4    [Stefon Walters]  With fresh growth prospects and a potential re...   \n",
      "\n",
      "                                        banner_image       source  \\\n",
      "0  https://cdn.benzinga.com/files/images/story/20...     Benzinga   \n",
      "1  https://cdn.benzinga.com/files/images/story/20...     Benzinga   \n",
      "2  https://cdn.benzinga.com/files/images/story/20...     Benzinga   \n",
      "3  https://g.foolcdn.com/image/?url=https%3A%2F%2...  Motley Fool   \n",
      "4  https://media.ycharts.com/charts/5c3044b495836...  Motley Fool   \n",
      "\n",
      "  category_within_source     source_domain  \\\n",
      "0                   News  www.benzinga.com   \n",
      "1                   News  www.benzinga.com   \n",
      "2                General  www.benzinga.com   \n",
      "3                    n/a      www.fool.com   \n",
      "4                    n/a      www.fool.com   \n",
      "\n",
      "                                              topics  overall_sentiment_score  \\\n",
      "0  [{'topic': 'Economy - Monetary', 'relevance_sc...                 0.101175   \n",
      "1  [{'topic': 'Financial Markets', 'relevance_sco...                 0.043189   \n",
      "2  [{'topic': 'Retail & Wholesale', 'relevance_sc...                 0.277373   \n",
      "3  [{'topic': 'Earnings', 'relevance_score': '0.2...                 0.100737   \n",
      "4  [{'topic': 'Financial Markets', 'relevance_sco...                 0.260633   \n",
      "\n",
      "  overall_sentiment_label                                   ticker_sentiment  \n",
      "0                 Neutral  [{'ticker': 'MSFT', 'relevance_score': '0.1574...  \n",
      "1                 Neutral  [{'ticker': 'NFLX', 'relevance_score': '0.0772...  \n",
      "2        Somewhat-Bullish  [{'ticker': 'SBUX', 'relevance_score': '0.0974...  \n",
      "3                 Neutral  [{'ticker': 'META', 'relevance_score': '0.0666...  \n",
      "4        Somewhat-Bullish  [{'ticker': 'MSFT', 'relevance_score': '0.0566...  \n",
      "688\n",
      "0      20240729T023039\n",
      "1      20240728T193955\n",
      "2      20240728T154208\n",
      "3      20240728T143000\n",
      "4      20240728T112000\n",
      "            ...       \n",
      "683    20240625T001500\n",
      "684    20240624T220000\n",
      "685    20240624T205038\n",
      "686    20240624T204038\n",
      "687    20240624T201244\n",
      "Name: time_published, Length: 688, dtype: object\n"
     ]
    }
   ],
   "source": [
    "import requests\n",
    "import pandas as pd\n",
    "from io import StringIO\n",
    "\n",
    "url = 'https://www.alphavantage.co/query?function=NEWS_SENTIMENT&tickers=AAPL&time_from=20231001T0000&time_to=20240729T0920&limit=1000&apikey=COOFAIV9AV9SVV19'\n",
    "r = requests.get(url)\n",
    "data = r.json()\n",
    "\n",
    "# Assuming the relevant data is in the 'feed' key\n",
    "df = pd.DataFrame(data.get('feed', []))\n",
    "\n",
    "print(df.head())\n",
    "print(len(df['title']))\n",
    "print(df['time_published'])"
   ]
  }
 ],
 "metadata": {
  "kernelspec": {
   "display_name": "base",
   "language": "python",
   "name": "python3"
  },
  "language_info": {
   "codemirror_mode": {
    "name": "ipython",
    "version": 3
   },
   "file_extension": ".py",
   "mimetype": "text/x-python",
   "name": "python",
   "nbconvert_exporter": "python",
   "pygments_lexer": "ipython3",
   "version": "3.12.4"
  }
 },
 "nbformat": 4,
 "nbformat_minor": 4
}
