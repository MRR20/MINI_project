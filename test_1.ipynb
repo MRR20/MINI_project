{
 "cells": [
  {
   "cell_type": "code",
   "execution_count": 25,
   "metadata": {},
   "outputs": [],
   "source": [
    "#test_1 for data collection"
   ]
  },
  {
   "cell_type": "code",
   "execution_count": 26,
   "metadata": {},
   "outputs": [],
   "source": [
    "#1. data processing\n",
    "#2. get the data of opening and closing rate\n",
    "#3. get news data of that particular date\n",
    "#4. perform sentiment analysis on new data\n",
    "#5. get sentiment score\n",
    "#6. get the avg of compound data\n",
    "#7. test regression model using stock and avg data\n",
    "#8. compare with stock prices of next day\n",
    "#9. find loss\n",
    "#10. train until model reaches required accuracy"
   ]
  },
  {
   "cell_type": "code",
   "execution_count": 27,
   "metadata": {
    "tags": []
   },
   "outputs": [],
   "source": [
    "# import pandas as pd"
   ]
  },
  {
   "cell_type": "code",
   "execution_count": 28,
   "metadata": {
    "tags": []
   },
   "outputs": [],
   "source": [
    "# import requests\n",
    "\n",
    "# company = \"NVDA\"\n",
    "# api_key = \"COOFAIV9AV9SVV19\"\n",
    "# url = f'https://www.alphavantage.co/query?function=TIME_SERIES_DAILY&outputsize=full&symbol={company}&apikey={api_key}&datatype=csv'\n",
    "# r = requests.get(url)\n",
    "# data = r.text\n",
    "\n",
    "# print(data)"
   ]
  },
  {
   "cell_type": "code",
   "execution_count": 29,
   "metadata": {
    "tags": []
   },
   "outputs": [],
   "source": [
    "# csv_filename = 'Nvidia_data.csv'\n",
    "# with open(csv_filename, 'w', newline='') as file:\n",
    "#     file.write(data)\n",
    "\n",
    "# print(f'Data saved to {csv_filename}')"
   ]
  },
  {
   "cell_type": "code",
   "execution_count": 30,
   "metadata": {},
   "outputs": [],
   "source": [
    "# import requests\n",
    "# import csv\n",
    "\n",
    "# url = f'https://newsapi.org/v2/top-headlines?country=us&category=business&apiKey=ec2f586478ff4553a0e17399fd42f45a'\n",
    "# r = requests.get(url)\n",
    "# data = r.json()\n",
    "# print(data)"
   ]
  },
  {
   "cell_type": "code",
   "execution_count": 31,
   "metadata": {},
   "outputs": [],
   "source": [
    "# import requests\n",
    "# import csv\n",
    "\n",
    "# url = f'https://newsapi.org/v2/top-headlines?country=us&category=business&apiKey=ec2f586478ff4553a0e17399fd42f45a'\n",
    "# r = requests.get(url)\n",
    "# data = r.json()\n",
    "\n",
    "# # Open a new CSV file for writing\n",
    "# with open('news_data.csv', 'w', newline='') as csvfile:\n",
    "#     # Create a CSV writer object\n",
    "#     writer = csv.writer(csvfile)\n",
    "\n",
    "#     # Write the header row\n",
    "#     writer.writerow(['Title', 'Description', 'URL', 'Published At'])\n",
    "\n",
    "#     # Iterate over the articles in the JSON data\n",
    "#     for article in data['articles']:\n",
    "#         # Write each article's data as a row in the CSV file\n",
    "#         writer.writerow([article['title'], article['description'], article['url'], article['publishedAt']])"
   ]
  },
  {
   "cell_type": "code",
   "execution_count": 32,
   "metadata": {},
   "outputs": [
    {
     "name": "stdout",
     "output_type": "stream",
     "text": [
      "20240729T1133\n",
      "                                               title  \\\n",
      "0  First iPhone 16 Models May Not Have Apple Inte...   \n",
      "1  Jim Cramer Says Tech Earnings Crucial Test For...   \n",
      "2  Bitcoin, Ethereum, Dogecoin Move Sideways As T...   \n",
      "3  What's New In the Consumer Tech World Last Wee...   \n",
      "4  Apple Makes History With First US Union Labor ...   \n",
      "\n",
      "                                                 url   time_published  \\\n",
      "0  https://www.benzinga.com/news/24/07/40003714/f...  20240729T054838   \n",
      "1  https://www.benzinga.com/markets/equities/24/0...  20240729T044657   \n",
      "2  https://www.benzinga.com/markets/cryptocurrenc...  20240729T023039   \n",
      "3  https://www.benzinga.com/news/24/07/40001828/w...  20240728T193955   \n",
      "4  https://www.benzinga.com/news/24/07/40001398/a...  20240728T154208   \n",
      "\n",
      "            authors                                            summary  \\\n",
      "0  [Ananya Gairola]  Apple Inc.'s AAPL first iPhone 16 models shipp...   \n",
      "1  [Benzinga Neuro]  Jim Cramer, the host of CNBC's \"Mad Money,\" ha...   \n",
      "2    [Aniket Verma]  Leading cryptocurrencies held on to their gain...   \n",
      "3     [Lekha Gupta]  Chen Nanxiang, chairman of the China Semicondu...   \n",
      "4  [Benzinga Neuro]  Apple Inc. AAPL and the union representing its...   \n",
      "\n",
      "                                        banner_image    source  \\\n",
      "0  https://cdn.benzinga.com/files/images/story/20...  Benzinga   \n",
      "1  https://cdn.benzinga.com/files/images/story/20...  Benzinga   \n",
      "2  https://cdn.benzinga.com/files/images/story/20...  Benzinga   \n",
      "3  https://cdn.benzinga.com/files/images/story/20...  Benzinga   \n",
      "4  https://cdn.benzinga.com/files/images/story/20...  Benzinga   \n",
      "\n",
      "  category_within_source     source_domain  \\\n",
      "0                   News  www.benzinga.com   \n",
      "1                Markets  www.benzinga.com   \n",
      "2                   News  www.benzinga.com   \n",
      "3                   News  www.benzinga.com   \n",
      "4                General  www.benzinga.com   \n",
      "\n",
      "                                              topics  overall_sentiment_score  \\\n",
      "0  [{'topic': 'Technology', 'relevance_score': '1...                 0.202850   \n",
      "1  [{'topic': 'Economy - Monetary', 'relevance_sc...                 0.101245   \n",
      "2  [{'topic': 'Economy - Monetary', 'relevance_sc...                 0.101175   \n",
      "3  [{'topic': 'Financial Markets', 'relevance_sco...                 0.043189   \n",
      "4  [{'topic': 'Retail & Wholesale', 'relevance_sc...                 0.277373   \n",
      "\n",
      "  overall_sentiment_label                                   ticker_sentiment  \n",
      "0        Somewhat-Bullish  [{'ticker': 'AAPL', 'relevance_score': '0.8797...  \n",
      "1                 Neutral  [{'ticker': 'MSFT', 'relevance_score': '0.1720...  \n",
      "2                 Neutral  [{'ticker': 'MSFT', 'relevance_score': '0.1574...  \n",
      "3                 Neutral  [{'ticker': 'NFLX', 'relevance_score': '0.0772...  \n",
      "4        Somewhat-Bullish  [{'ticker': 'SBUX', 'relevance_score': '0.0974...  \n"
     ]
    }
   ],
   "source": [
    "import requests\n",
    "import pandas as pd\n",
    "from io import StringIO\n",
    "\n",
    "from datetime import datetime\n",
    "\n",
    "current_date = datetime.now()\n",
    "formatted_date = current_date.strftime('%Y%m%dT%H%M')\n",
    "\n",
    "print(formatted_date)\n",
    "\n",
    "from_date='20240701T0001'\n",
    "\n",
    "url = f'https://www.alphavantage.co/query?function=NEWS_SENTIMENT&tickers=AAPL&time_from={from_date}&time_to={formatted_date}&limit=1000&apikey=COOFAIV9AV9SVV19'\n",
    "r = requests.get(url)\n",
    "data = r.json()\n",
    "\n",
    "# Assuming the relevant data is in the 'feed' key\n",
    "df = pd.DataFrame(data.get('feed', []))\n",
    "\n",
    "print(df.head())"
   ]
  },
  {
   "cell_type": "code",
   "execution_count": 33,
   "metadata": {},
   "outputs": [
    {
     "data": {
      "text/plain": [
       "0      20240729T054838\n",
       "1      20240729T044657\n",
       "2      20240729T023039\n",
       "3      20240728T193955\n",
       "4      20240728T154208\n",
       "            ...       \n",
       "561    20240701T081200\n",
       "562    20240701T081111\n",
       "563    20240701T073538\n",
       "564    20240701T022049\n",
       "565    20240701T014839\n",
       "Name: time_published, Length: 566, dtype: object"
      ]
     },
     "execution_count": 33,
     "metadata": {},
     "output_type": "execute_result"
    }
   ],
   "source": [
    "df['time_published']"
   ]
  },
  {
   "cell_type": "code",
   "execution_count": 34,
   "metadata": {},
   "outputs": [
    {
     "data": {
      "text/plain": [
       "0      First iPhone 16 Models May Not Have Apple Inte...\n",
       "1      Jim Cramer Says Tech Earnings Crucial Test For...\n",
       "2      Bitcoin, Ethereum, Dogecoin Move Sideways As T...\n",
       "3      What's New In the Consumer Tech World Last Wee...\n",
       "4      Apple Makes History With First US Union Labor ...\n",
       "                             ...                        \n",
       "561    The S&P 500 Just Did Something It Has Only Don...\n",
       "562    Apple iPhone Settlement Deadline Extended: Use...\n",
       "563    Apple AI Partnership With Google Set For Fall,...\n",
       "564    Apple Hardware Now Lasts Longer And This Is Ma...\n",
       "565    iPhone 16 Stainless Steel Cases Will Meet EU R...\n",
       "Name: title, Length: 566, dtype: object"
      ]
     },
     "execution_count": 34,
     "metadata": {},
     "output_type": "execute_result"
    }
   ],
   "source": [
    "df['title']"
   ]
  },
  {
   "cell_type": "code",
   "execution_count": 35,
   "metadata": {},
   "outputs": [],
   "source": [
    "# from datetime import datetime\n",
    "\n",
    "# current_date = datetime.now()\n",
    "# formatted_date = current_date.strftime('%Y%m%dT%H%M')\n",
    "\n",
    "# print(formatted_date)"
   ]
  },
  {
   "cell_type": "code",
   "execution_count": null,
   "metadata": {},
   "outputs": [],
   "source": []
  }
 ],
 "metadata": {
  "kernelspec": {
   "display_name": "base",
   "language": "python",
   "name": "python3"
  },
  "language_info": {
   "codemirror_mode": {
    "name": "ipython",
    "version": 3
   },
   "file_extension": ".py",
   "mimetype": "text/x-python",
   "name": "python",
   "nbconvert_exporter": "python",
   "pygments_lexer": "ipython3",
   "version": "3.12.4"
  }
 },
 "nbformat": 4,
 "nbformat_minor": 4
}
