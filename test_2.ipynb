{
 "cells": [
  {
   "cell_type": "code",
   "execution_count": 1,
   "metadata": {},
   "outputs": [],
   "source": [
    "#test_2 for new api test"
   ]
  },
  {
   "cell_type": "code",
   "execution_count": 2,
   "metadata": {},
   "outputs": [],
   "source": [
    "# import requests\n",
    "\n",
    "# api_key = '1e78027b-d07c-4e35-9a0a-8f1d2b4e5549'\n",
    "# url = f'https://content.guardianapis.com/search?section=business&page-size=50&from-date=2024-07-01&to-date=2024-07-31&api-key={api_key}'\n",
    "\n",
    "# response = requests.get(url)\n",
    "# data = response.json()\n",
    "\n",
    "# # Process the data as needed\n",
    "# for article in data['response']['results']:\n",
    "#     print(article['webTitle']+\"    \"+article['webUrl']+\"    \"+article['webPublicationDate'])\n"
   ]
  },
  {
   "cell_type": "code",
   "execution_count": 3,
   "metadata": {},
   "outputs": [],
   "source": [
    "# import requests\n",
    "# import csv\n",
    "# from io import StringIO\n",
    "\n",
    "# api_key = '1e78027b-d07c-4e35-9a0a-8f1d2b4e5549'\n",
    "# url = f'https://content.guardianapis.com/search?section=business&page-size=200&from-date=2023-10-01&to-date=2024-07-30&api-key={api_key}'\n",
    "\n",
    "# response = requests.get(url)\n",
    "# data = response.json()\n",
    "\n",
    "# # Create a StringIO object to hold the CSV data\n",
    "# output = StringIO()\n",
    "# writer = csv.writer(output)\n",
    "\n",
    "# # Write the header\n",
    "# writer.writerow(['Title', 'URL', 'Publication Date'])\n",
    "\n",
    "# # Write the data rows\n",
    "# for article in data['response']['results']:\n",
    "#     title = article['webTitle']\n",
    "#     url = article['webUrl']\n",
    "#     publication_date = article['webPublicationDate']\n",
    "#     writer.writerow([title, publication_date, url])\n",
    "\n",
    "# # Get the CSV content as a string\n",
    "# csv_content = output.getvalue()\n",
    "# output.close()\n",
    "\n",
    "# print(csv_content)\n"
   ]
  },
  {
   "cell_type": "code",
   "execution_count": 4,
   "metadata": {},
   "outputs": [],
   "source": [
    "# import requests\n",
    "# import csv\n",
    "# from io import StringIO\n",
    "# import pandas as pd\n",
    "\n",
    "# api_key = '1e78027b-d07c-4e35-9a0a-8f1d2b4e5549'\n",
    "# url = f'https://content.guardianapis.com/search?section=business&page-size=200&from-date=2023-10-01&to-date=2024-07-30&show-fields=body&api-key={api_key}'\n",
    "\n",
    "# response = requests.get(url)\n",
    "# data = response.json()\n",
    "\n",
    "# # Create a StringIO object to hold the CSV data\n",
    "# output = StringIO()\n",
    "# writer = csv.writer(output)\n",
    "\n",
    "# # Write the header\n",
    "# writer.writerow(['Title', 'Publication Date', 'URL', 'Content'])\n",
    "\n",
    "# # Write the data rows\n",
    "# for article in data['response']['results']:\n",
    "#     title = article['webTitle']\n",
    "#     publication_date = article['webPublicationDate']\n",
    "#     url = article['webUrl']\n",
    "#     content = article['fields']['body']\n",
    "#     writer.writerow([title, publication_date, url, content])\n",
    "\n",
    "# # Get the CSV content as a string\n",
    "# csv_content = output.getvalue()\n",
    "# output.close()\n",
    "# print(csv_content)\n",
    "\n",
    "# # Convert the CSV content to a pandas DataFrame\n",
    "# df = pd.read_csv(StringIO(csv_content))\n",
    "\n",
    "# # Display the DataFrame\n",
    "# print(df.head())"
   ]
  },
  {
   "cell_type": "code",
   "execution_count": 5,
   "metadata": {},
   "outputs": [],
   "source": [
    "# df['Content']"
   ]
  },
  {
   "cell_type": "code",
   "execution_count": 6,
   "metadata": {},
   "outputs": [],
   "source": [
    "# pip install beautifulsoup4"
   ]
  },
  {
   "cell_type": "code",
   "execution_count": 1,
   "metadata": {},
   "outputs": [
    {
     "name": "stdout",
     "output_type": "stream",
     "text": [
      "                                               Title      Publication Date  \\\n",
      "0  Royal Mail’s app lets customers detect counter...  2024-07-30T18:14:09Z   \n",
      "1  Diageo needs to raise shareholder spirits – an...  2024-07-30T17:52:23Z   \n",
      "2  Reeves accuses Hunt of £22bn lie; nonsense, he...  2024-07-30T16:10:19Z   \n",
      "3  Germany on brink of recession; eurozone beats ...  2024-07-30T15:41:55Z   \n",
      "4  Australia’s inflation rise could light the fus...  2024-07-30T15:00:12Z   \n",
      "\n",
      "                                                 URL  \\\n",
      "0  https://www.theguardian.com/business/article/2...   \n",
      "1  https://www.theguardian.com/business/article/2...   \n",
      "2  https://www.theguardian.com/business/article/2...   \n",
      "3  https://www.theguardian.com/business/live/2024...   \n",
      "4  https://www.theguardian.com/business/article/2...   \n",
      "\n",
      "                                             Content  \n",
      "0  Royal Mail has launched a scanner tool in its ...  \n",
      "1  For most of the past 15 years, Diageo was poss...  \n",
      "2  Rachel Reeves has accused Jeremy Hunt, her pre...  \n",
      "3    4.41pm BST  Closing post  Time for a recap. ...  \n",
      "4  The fortunes of Australia’s economy – and poli...  \n"
     ]
    }
   ],
   "source": [
    "import requests\n",
    "import csv\n",
    "from io import StringIO\n",
    "import pandas as pd\n",
    "from bs4 import BeautifulSoup\n",
    "\n",
    "api_key = '1e78027b-d07c-4e35-9a0a-8f1d2b4e5549'\n",
    "url = f'https://content.guardianapis.com/search?section=business&page-size=200&from-date=2024-07-30&to-date=2024-07-30&show-fields=body&api-key={api_key}'\n",
    "\n",
    "response = requests.get(url)\n",
    "data = response.json()\n",
    "\n",
    "# Create a StringIO object to hold the CSV data\n",
    "output = StringIO()\n",
    "writer = csv.writer(output)\n",
    "\n",
    "# Write the header\n",
    "writer.writerow(['Title', 'Publication Date', 'URL', 'Content'])\n",
    "\n",
    "# Write the data rows\n",
    "for article in data['response']['results']:\n",
    "    title = article['webTitle']\n",
    "    publication_date = article['webPublicationDate']\n",
    "    url = article['webUrl']\n",
    "    html_content = article['fields']['body']\n",
    "\n",
    "    # Remove HTML tags using BeautifulSoup\n",
    "    soup = BeautifulSoup(html_content, 'html.parser')\n",
    "    text_content = soup.get_text()\n",
    "\n",
    "    writer.writerow([title, publication_date, url, text_content])\n",
    "\n",
    "# Get the CSV content as a string\n",
    "csv_content = output.getvalue()\n",
    "output.close()\n",
    "#print(csv_content)\n",
    "\n",
    "# Convert the CSV content to a pandas DataFrame\n",
    "df = pd.read_csv(StringIO(csv_content))\n",
    "\n",
    "# Display the DataFrame\n",
    "print(df.head())\n"
   ]
  },
  {
   "cell_type": "code",
   "execution_count": 8,
   "metadata": {},
   "outputs": [
    {
     "data": {
      "text/plain": [
       "0     Royal Mail has launched a scanner tool in its ...\n",
       "1     For most of the past 15 years, Diageo was poss...\n",
       "2     Rachel Reeves has accused Jeremy Hunt, her pre...\n",
       "3       4.41pm BST  Closing post  Time for a recap. ...\n",
       "4     The fortunes of Australia’s economy – and poli...\n",
       "5     Greggs has increased the amount it charges for...\n",
       "6     Valerie Labi, co-founder and chief executive o...\n",
       "7     BP’s shareholders can expect a multibillion-do...\n",
       "8     Fears of a China trade war erupting under a se...\n",
       "9     All Rex flights between capital cities have be...\n",
       "10    The delivery of the world’s second-largest cru...\n",
       "11    Chinese carmakers secured a record 11% of the ...\n",
       "12    Global sales at the drinks multinational Diage...\n",
       "13    If you’ve ever awkwardly scrambled to find a p...\n",
       "14    UK consumers have cut back on summer spending ...\n",
       "Name: Content, dtype: object"
      ]
     },
     "execution_count": 8,
     "metadata": {},
     "output_type": "execute_result"
    }
   ],
   "source": [
    "df['Content']"
   ]
  },
  {
   "cell_type": "code",
   "execution_count": 9,
   "metadata": {},
   "outputs": [
    {
     "name": "stdout",
     "output_type": "stream",
     "text": [
      "Royal Mail has launched a scanner tool in its app that lets customers check if a stamp is counterfeit. Following a row over £5 “fines” being levied on people who received a letter carrying an allegedly fake stamp, Royal Mail has also announced a new independent arbitrator to settle disputes about whether a stamp is genuine or not. Since the start of August last year, the only regular stamps valid for postage have been those with scannable barcodes. In the months that followed, people who received letters were forced to pay a £5 penalty fee in cases where Royal Mail suspected that a counterfeit stamp had been used by the sender. Some customers whose letters were affected claimed that the stamps used were bought from Post Office branches, reputable retailers, or even Royal Mail’s own website. There have also been claims that realistic fake stamps mass-produced in China are being sold online and bought unwittingly by the public and smaller retailers. With the row gathering momentum, Royal Mail suspended the £5 penalty charges in April and said on Tuesday that it would “extend the pause” on the collection of the fee for those receiving letters carrying counterfeit stamps. It has also added a new scanner to its free-to-use app that will enable people to check if a stamp is a known fake, thereby preventing them from “inadvertently becoming victims of fraud”. Once the barcode on the stamp is scanned, the customer will be told whether or not it is counterfeit. If people did not buy their stamps from Royal Mail, a post office or another reputable outlet, they are being advised to scan them to make sure they are genuine. Meanwhile, the new independent arbitrator – an expert from the stamp dealer Stanley Gibbons – will make the final decision in cases where a surcharge is disputed by the customer and the complaint has reached deadlock. The expert will examine the stamp and his or her decision “will be fully independent of Royal Mail and the judgment binding”. The company said that since the introduction of barcoded stamps it had seen a 90% fall in use of fake stamps. It added that the “temporary” suspension of the surcharge would be kept under review. In the meantime, it will continue to slap stickers on letters if it believes the stamps used are counterfeit.\n",
      "For most of the past 15 years, Diageo was possibly the most admired company at the top end of the FTSE 100 index. As well as being an export titan for the UK, the Johnnie Walker, Smirnoff and Guinness group performed beautifully for its shareholders year after year. Sales growth invariably beat inflation, underpinned by an enviable balance between developed and emerging markets. Profit margins steadily improved under a “premiumisation” strategy of encouraging punters to “drink better, not more”. Acquisitions worked, allowing Diageo to go from nowhere to leader in tequila in no time. Sir Ivan Menezes, who died just before he was due to retire as chief executive last summer, was rightly hailed as a boardroom superstar. And now? Well, it would be wrong to say Diageo’s woes are unique because the entire global spirits industry is having a weak run. But the company’s reputation for reliability and steadiness has disappeared faster than a shot of Don Julio. Debra Crew, the successor of Menezes, got off to a shocking start last November with a profits warning related to over-stocking in Latin America – in other words, a serious misreading of how much was actually being consumed by drinkers. Now, in Tuesday’s full-year numbers, came the first fall in annual sales since 2020. The shares, which were £40 as recently as 2022, lost another 5% to £24.18.   Related: Diageo hit by first post-Covid sales fall but Guinness soars in Great Britain   The latest headache is the US, Diageo’s largest market by far, where Crew complained about “cautious” consumers. Since companies from Nike to McDonald’s are saying the same, the factor is clearly genuine. Cuts in interest rates may help if they come, but in the old days one thought of Diageo as a company as an outperformer in all weathers. That element seems to have gone missing. Even the Mexican tequila operation took a whack from “down-trading”. In the circumstances, Crew’s insistence on sticking with a longstanding “medium-term” forecast for group-wide organic net sales growth of 5%-7% lacks credibility. Diageo has just turned in minus 0.6% and, even if one generously strips out Latin America, the figure was only 1.8%. In any case, what is “the medium term”? After the wild swings of the Covid period, which ended with a boom when pubs and bars reopened, Diageo may simply have become a less predictable operation. On the plus side, Crew reported that inventories in Latin America have normalised (though she’s yet to explain adequately how Diageo’s on-the-ground intelligence was so duff in the first place). The company says it held or maintained market share in 75% of its measured markets, including in the US. And cashflow arrived as previously advertised. For the time being, then, Crew should get the benefit of the doubt. There is little point in diluting the “premiumisation” strategy that worked well and may do so again; the spirts market has had downturns in the past. In the meantime, shareholders have the consolation of a Guinness operation (unfortunately only one-fifth of the whole) that keeps turning out excellent numbers. But Crew could still do herself a favour. The stock market has already mentally ditched the idea that Diageo is a steady 5%-7% sales performer, with only minor year-on-year variations within the range. Its business now looks more exposed to sudden swings. If you must have targets, give shareholders ones they can believe in. Until then, the unmistakable new air of suspicion around Diageo is justified.\n",
      "Rachel Reeves has accused Jeremy Hunt, her predecessor as chancellor, of lying about the state of the public finances inherited by the Labour government. Hunt has dismissed the claims as “absolute nonsense”. What is the row about? An audit conducted by the Treasury since Reeves’s arrival has identified £35bn of potential overspending by Whitehall departments in the 2024-25 financial year. The government does not expect to have to find all of the money and can use its reserves – a rainy day fund – to cover some of the costs. Even so, that would leave projected departmental spending £21.9bn above the totals set by the Treasury in Hunt’s March 2024 budget. Reeves has reduced that figure to £16.4bn by announcing £5.5bn of spending cuts, including the means testing of the winter fuel payments for pensioners. What does Reeves say? The chancellor said during the election campaign that she would inherit the biggest mess since the second world war but even so says she has been shocked at the state of the nation’s books. Reeves says the previous government made spending commitments but failed to allocate the money to fund them. She says Hunt covered up what was really happening: “He did that knowingly and deliberately. He lied, and they lied during the election campaign about the state of the public finances.”  What does Hunt say? Hunt says Reeves has confected a story about a £21.9bn “black hole” as a smokescreen for tax increases in the budget that she was always going to impose. As shadow chancellor, Reeves had privileged access to civil servants before the election, Hunt says, so she was up to speed with the state of the public finances. These were not in nearly as bad a state as Reeves claims, with £9.4bn of the additional spending pressure the result of a decision the chancellor herself has taken: to meet the recommendations of the public sector pay review bodies in full. So who’s right? As tends to be the case, things are not entirely clearcut. Reeves cannot claim complete ignorance about the spending pressures and said herself during the campaign that the existence of the independent Office for Budget Responsibility meant it was not necessary to win an election to find out about the state of public finances. But the chancellor’s argument that things were even worse than she expected was bolstered when the OBR’s director, Richard Hughes, said on Monday that he was launching an inquiry into how the departmental spending totals for 2024-25 were prepared. The OBR became aware of the additional spending pressures only last week. Paul Johnson, the director of the Institute for Fiscal Studies, says the numbers Reeves produced were new in that they had not been published before and that he found it astonishing that the £6bn bill for housing asylum seekers had not been budgeted for. Even so, it was always obvious Reeves faced tricky decisions, Johnson says. Isn’t this just a blame game? To a large extent, yes. Both Hunt and Reeves want to control the narrative, knowing that the impression left with voters now is likely to stick. Hunt’s message is that the economy and the public finances were on the mend under his stewardship, that extra money for the NHS was linked to productivity gains, and that his £10bn budget cut in national insurance was affordable. Reeves says unfunded promises were made of which the OBR was unaware and that already tough choices will now be even tougher as a result. How tough will those choices be? The Treasury may be able to shave a few billion pounds off departmental spending over the coming months, but whatever is left of the £16.4bn will have to be addressed in the budget on 30 October. Public spending totals for the next financial year look implausibly tight and there will be a recurring cost of this year’s public sector pay deals. Taxes are certainly going up. The only question is which ones.\n",
      "  4.41pm BST  Closing post  Time for a recap. Economic storm clouds are gathering over Germany again, after growth fell into reverse and inflation rose. German GDP fell by 0.1% in the second quarter of this year, new economic data shows, putting Europe’s largest economy on the brink of recession. Analysts warned that Germany is the growth laggard of the eurozone, although Latvia (-1.1%), Sweden (-0.8%) and Hungary (-0.2%) all shrank by more. ABN Amro explains:  German Q1 GDP undershot expectations, contracting by 0.1% qoq (consensus and our forecast +0.1% qoq) after expanding by 0.2% qoq in Q1 The details will be published late August. For now, Destatis pointed to fixed investment, particularly in transport equipment and buildings as the main drag on GDP growth. Indeed, investment in Germany has been generally weak with the level of investment still lagging 2019 levels by about 4%; this is especially the case for investment in transport equipment such as cars. Furthermore, investment in buildings declined after being a source of strength in the Q1 GDP reading. This is not a surprise given the continued high level of interest rates, which have depressed demand and activity in the construction sector, particularly housing.  German inflation, on a harmonised basis, rose to 2.6% this month. The drop in Germany’s GDP took the shine of a solid, unspectacular, growth performance by the wider eurozone, which expanded by 0.3% in April-June. Spain was a bright light, growing by 0.8%, while France expanded by 0.3% – helped by the sale of a massive cruise ship to Royal Caribbean.   Related: France’s GDP gets €1bn lift from giant cruise ship as German economy shrinks   Analysts at Nomura say:  Euro area Q2 2024 GDP grew by 0.3% q-o-q. Core/periphery divergence continues, worsening even, with Germany contracting and Spain materially outperforming.  In other news…. Climate activists have voiced anger after BP beat profit expectations, and hiked its dividend.   Related: BP to hand investors $7bn this year as it expands oil operations   Drinks company Diageo has been hit by a slump in demand in Latin America, cancelling out a jump in demand for its no-alcohol Guinness 0.0%.   Related: Diageo hit by first post-Covid sales fall but Guinness soars in Great Britain   Bakery chain Greggs has raised some prices, as it passes on the cost of a higher wage bill.   Related: Greggs adds 5p to cost of sausage rolls despite plan not to raise prices   Pfizer has raised its profit guidance, as it shrugged off a drop in revenues from its Covid produces. The number of job openings in the US has fallen slightly.     4.39pm BST  London market closes  After falling sharply this morning, London’s blue-chip stocks have clawed their way back, mostly. The FTSE 100 share index has ended the day down 18 points, or 0.2%, at 8274 points. Standard Chartered led the risers, after announcing its biggest ever share buyback this morning. But medical device maker Convatec was the top faller, down 5.8%, after missing profit expectations. The FTSE 250 index of medium-sized companies jumped 0.85%, led by wealth manager St James’s Place (+25%) after it outlined cost-cutting plans.     4.05pm BST  Moody's puts UK's Southern Water on downgrade warning  Trouble is mounting in the UK water industry, where Moody’s is threatening to downgrade Southern Water to a ‘junk’ rating. SW (Finance) I PLC (Southern Water) is currently rated at Baa3 – the lowest investment-grade rating. Moody’s has now placed its bonds on review for a possible downgrade. Moody’s says:  “The review for downgrade reflects our expectation that Ofwat’s draft determination would, if not materially changed... result in severe Outcome Delivery Incentive (ODI) penalties and total expenditure (totex) allowances below the level needed to fund Southern Water’s investment programme. “Together with an allowed return that falls significantly short of Southern Water’s actual cost of capital, such under-performance may challenge the company’s ability to raise equity finance to maintain leverage at levels consistent with the current rating.”  Southern Water is subject to enforcement monitoring by regulator Ofwat after a record £126m fine in 2019 over “shocking” failures at the company’s sewage treatment sites that polluted rivers and beaches in southern England.   Related: Every water firm in England and Wales under investigation over sewage spills   Last week, Moody’s downgraded Thames Water’s credit rating to “junk” status, adding to pressure on the English water company’s finances.   Related: Thames Water credit rating downgraded to ‘junk’ status by Moody’s – as it happened       3.57pm BST  Pfizer raises profit guidance as revenues rise  Pharmaceuticals giant Pfizer has lifted its profit forecast after recording its first rise in revenues since the height of the Covid-19 pandemic. Pfizer grew its revenues by 2% year-on-year to $13.28bn, despite a drop in revenues from Covid products, as demand for its heart disease drug and its cancer therapy Padcev rise. David Denton, Pfizer’s chief financial officer and executive vice president, says:  “This was Pfizer’s first quarter of topline revenue growth, on a year-over-year basis, since the fourth quarter of 2022 when our COVID revenues peaked.  The company now expects annual profit to be in the range of $2.45 to $2.65 per share, up from a prior profit forecast of $2.15 to $2.35 per share. Pfizer also says it’s on track to cut costs by at least $4bn by the end of the year, through its “Cost Realignment Program”.     3.45pm BST  Microsoft investigating new service outage  Microsoft has said it is investigating reports of users having problems accessing its services, with some reporting being unable to access email and other functions, PA Media reports. An alert on the technology giant’s service status website said it is looking into a “network infrastructure” issue. According to website status platform DownDetector, users of Microsoft 365, Microsoft Teams, Xbox Live and players of popular video game Minecraft were among those reporting issues. The incident comes less than two weeks after a major IT outage knocked global infrastructure including transport and healthcare services offline because a flawed software update from cybersecurity firm CrowdStrike affected Microsoft devices. On its service status website, Microsoft said:  “We are investigating reports of issues connecting to Microsoft services globally. “Customers may experience timeouts connecting to Azure services. We have multiple engineering teams engaged to diagnose and resolve the issue. More details will be provided as soon as possible.”      3.34pm BST   UK auditors BDO and Forvis Mazars have been urged to improve the quality of their audit work. The Financial Reporting Council (FRC) has today flagged the gap between the Big Four accountancy and BDO and Mazars. In its Annual Review of Audit Quality, the FRC says 74% of audits were categorised as good or requiring limited improvements. The big firms did well, with Deloitte at 94%, EY 76%, KPMG 89% and PwC 76%. But, the audit results for BDO have declined from 69% to 38% year on year, while Forvis Mazars’ results also declined from 56% to 44%.  The regulator says:  While inspections are based on a risk-based sample, and should not be extrapolated to all of the audits undertaken by both firms, the results do not meet the FRC’s expectations. Given their strategic importance to the audit market, both firms must urgently address the causes of these declines and undertake significant audit quality improvement plans which will be closely monitored by the FRC.      3.15pm BST  US job openings fall  Just in: the number of job openings across the US economy has dropped slightly, as its labour market slackens a little. There were 8.184m job opportunies in the US at the end of June, down from 8.23m at the end of May, and 941,000 fewer than a year earlier. The job openings rate held at 4.9 percent in June.  The Bureau of Labor Statistics says:  Job openings increased in accommodation and food services (+120,000) and in state and local government, excluding education (+94,000). The number of job openings decreased in durable goods manufacturing (-88,000) and in federal government (-62,000)   JOLTS 8184k (est 8000k, last 8230k from 8140k)JOLTS above estimates but partially offset by previous revision, so downtrend still intact.Quits ratio declined to 2.1 (previous 2.2). confirming normalization in labor market is underway... pic.twitter.com/cYH1wIH9t1— Mario Cavaggioni (@CavaggioniMario) July 30, 2024      3.11pm BST   On Wall Street, stocks have made a positive start as trading begins in New York. The S&P 500 share index has risen by 10 points, or 0.2%, to 5,473 points, while the Dow Jones industrial average has gained 0.4%. The tech-focused Nasdaq Composite is flat, with cybersecurity firm CrowdStrike losing 7%, as it faces calls for compensation following the IT outage this month that caused millions of computers to crash. Microsoft users have been reporting more problems today, with an outage affecting Azure network infrastructure customers.  Microsoft’s share are up 0.4%, though, ahead of its latest financial results tonight.  Updated at 3.16pm BST    3.02pm BST   Oil prices have weakened today, weighed down by worries about demand from China, the world’s largest oil importer.  Brent crude has dropped by 1.35% to $78.70 per barrel, while US crude is 1.1% lower at $74.87. Joseph Dahrieh, managing principal at brokerage Tickmill, explains:  Slower-than-expected economic growth in China as well as declining oil imports have weighed on sentiment. In addition, the planned removal of part of OPEC+’s production cuts could intensify the bearish sentiment.      2.13pm BST   Google’s parent company, Alphabet, has responded to the CMA’s probe into its partnership with AI firm Anthropic (see earlier post). A Google spokesperson said:   “Google is committed to building the most open and innovative AI ecosystem in the world. “Anthropic is free to use multiple cloud providers and does, and we don’t demand exclusive tech rights.”      2.08pm BST  US home prices unchanged in May  Over in the US, home prices have stagnated. US house prices were unchanged in May, according to the Federal Housing Finance Agency, following a 0.3% rise in April. During May, prices fell by 0.5% in the West North Central division, but gained 0.3% in the New England division. “US house price movement was flat in May,” said Dr. Anju Vajja, Deputy Director for FHFA’s Division of Research and Statistics, adding:  “The slowdown in U.S. house price appreciation continued in May amid a slight rise in both mortgage rates and housing inventory.”  On an annual basis, house prices rose 5.7% compared with May 2023.     1.57pm BST   We also have growth figures from Mexico, which are a little weaker than expected. Mexico’s economy grew by 0.2% quarter-on-quarter in April-June, missing forecasts for 0.3% growth.  The Gross Domestic Product (GDP) in Mexico expanded 0.20 percent in the second quarter of 2024 over the previous quarter.https://t.co/jZz1k45nzz pic.twitter.com/4jZUkPtIDA— TRADING ECONOMICS (@tEconomics) July 30, 2024      1.39pm BST  Takeover Panel cold-shoulders 10  The UK’s Takeover Panel has doled out its harshest penalty for a code breach, after a long investigation into the company which once owned boutique hotel chains Malmaison and Hotel du Vin. The Panel has concluded that ten parties should be “cold-shouldered”, a move which effectively bars them from any takeover-related activity, including buying or selling shares during a live takeover period. The Panel found that several executives of MWB Group Holdings had acquired shares in the company which, when added to the shares held by a pre-existing concert party, meant they controlled more than half its share capital – which would, if disclosed, force them to make a formal takeover bid. Omar Faruqui, Director General of the Panel, explains:  “Today’s ruling concludes the most complex investigation in the Panel’s 56-year history. Ten individuals have been cold-shouldered. They misled MWB Group shareholders and the market through a web of sham transactions and false trails stretching across many jurisdictions.  Exposing their deceit and wrong-doing is testament to the skill and determination of the Panel’s enforcement team.”  The ruling, which runs to over 100 pages, is online here. The Panel also decided that three members of management, including former MWB CEO Richard Balfour-Lynn, should pay compensation to shareholders, and has rejected an appeal from Balfour-Lynn. It has also publicly censured Andrew Blurton, a joint finance director of MWB at the time of some of the events in question. MWB entered administration in November 2012 and was liquidated on 15 April 2018.   Related: Malmaison and Hotel du Vin to be sold    Updated at 1.49pm BST    1.15pm BST   The slight increase in German inflation this month (see last post) not only highlights the stickiness of inflation but also suggests that a September rate cut by the European Central Bank is not a done deal, yet, says ING’s Carsten Brzeski     1.10pm BST  German harmonised inflation rate rises  Another blow for Germany – its inflation rate has risen. Inflation, on an EU-harmonised basis, rose to 2.6% per year in July, up from 2.5% in June, statistics body Destatis reports.  After stronger than expected inflation from Lander, German CPI came out slightly above expectations:m/m +0.5% (est +0.4%, last +0.2%)y/y +2.6% (est +2.5%, last +2.5%)National CPI:m/m +0.3% (est +0.3%,last +0.1%)y/y +2.3% (est +2.2%, last +2.2%) https://t.co/huGQqVBpaO pic.twitter.com/BlNqA5RIpb— Mario Cavaggioni (@CavaggioniMario) July 30, 2024   Updated at 1.15pm BST    12.56pm BST  UK's CMA looking into Alphabet's Anthropic partnership  Britain’s competition watchdog has kicked off another probe into the artificial intelligence sector. The Competition and Markets Authority (CMA) is examining whether Alphabet’s partnership with AI start-up Anthropic has created a “merger situation”, and if so wheter it weakens competition. This is the latest in a series of moves by the CMA. Earlier this month it began a full investigation into Microsoft’s deal with AI startup Inflection, and in April it began seeking views on Amazon’s investment in Anthropic, which is a leading rival to OpenAI.   Related: Microsoft deal with AI startup to be investigated by UK competition watchdog   Other regulators also have concerns; in January, Alphabet, Amazon and Microsoft received inquiries from the US Federal Trade Commission on their investments and partnerships with Anthropic and OpenAI.     12.37pm BST   Getting back to today’s eurozone growth figures, Moody’s Analytics economist Ross Cioffi has warned that the outlook for the region for the rest of this year is “precarious”. Cioffi explains:  Preliminary estimates reported a 0.3% quarter-on-quarter expansion of Eurozone GDP in the second quarter of 2024. Most major economies grew more strongly than we had been expecting, with the notable exception of Germany, which was worse off. Spain’s second quarter was well-rounded, with solid increases in domestic and foreign demand. France gained from both home and abroad, as well, though only to a minor extent with private consumption on the decline, while Italy was bolstered mostly on domestic demand. In Germany, the weak spot was fixed investments. The outlook for the Eurozone economy remains precarious for the rest of the year, with modest growth at best, as prices and interest rates remain high, and weak sentiment keep things cool, before picking up steam next year.      12.21pm BST  UK finance watchdog extends probe into car finance mis-selling  A major probe into whether people overpaid on their car loans has been extended by the UK’s financial watchdog. The Financial Conduct Authority now expects to set out the next steps in its review into the past use of discretionary commission arrangements (DCAs) in May 2025, having previously aimed to do this by the end of September. The FCA says:  We’re working hard to understand how DCAs affected the cost of credit for people borrowing money to buy a vehicle. We’re assessing thousands of records spanning 14 years.  The FCA’s investigation centres on the car loans market, and whether commission payments to brokers were too high. Those brokers were able to adjust the interest rates they charged customers, and some received “discretionary commission arrangements”, which meant they were paid more if the interest rate was higher.   Related: Car finance: what is the FCA looking into and will people get money back?   The FCA says today that firms involved in our review have engaged constructively with the regulator, but many have struggled to supply data within the requested time. Another wrinkle is that Barclays Partner Finance has begun judicial review proceedings of the Financial Ombudsman Service’s decision to uphold a complaint relating to its use of a DCA. Thousands of car loan customers who took out loans before 2021 have been complaining to lenders and brokers. The FCA says today it could bring in a redress scheme, so it is asking firms to pause complaint handling until 4 December 2025. Shares in Close Brothers, which has provided motor finance deals, are down around a third since January, when the FCA announced it was investigating the market.     11.42am BST  JP Morgan remains bullish on UK stocks  JP Morgan is still bullish on the outlook for the UK stock market. In a new research note, its analysts say the backdrop for UK equities is “looking favourable”. They cite attractive valuations, improved political clarity and potentially lower bond yields, which all make dividend yields more attractive again. JP Morgan is maintain its recommendation to remain ‘overweight’ on UK stocks. They explain:   The elections event risk is behind us, and the new government is likely to provide more fiscal credibility and stability, with focus on domestic agenda, homebuilding and the consumer. Broadly, the beneficiaries stand to be Banks, Homebuilders, Real Estate and Utilities, while on the negative side we have Diversified Financials, E&P and Transportation. Within the UK, we have a preference for Domestic over Exporters plays, as GBP is firmer, for UK consumer plays, and for Real Estate and Homebuilders - these typically start performing once the rate cuts begin.      11.31am BST   In the car world, Tesla is updating the software on more than 1.8 million vehicles in the US to fix a problem that stops unlatched bonnets being detected. Tesla has started rolling out an over-the-air software update to detect the open bonnet and send a notification to customers, the National Highway Traffic Safety Administration (NHTSA) said today. If a bonnet, or hood, was not locked properly, it could fully open while a car is being operated, blocking the driver’s view.  Tesla to recall over 1.8 mln US vehicles over hood issue https://t.co/6Q6CFMAygz pic.twitter.com/Ahp4NqHWFE— Reuters (@Reuters) July 30, 2024      11.20am BST   The pound is holding firm on the foreign exchanges this morning, unchanged at $1.286 against the US dollar. But, sterling could weaken on Thursday if the Bank of England decides to cut interest rates from their current 16-year high. Matthew Ryan, head of market strategy at global financial services firm Ebury, says:  “The Bank of England’s August policy announcement appears on a knife-edge, and one of the tougher rate decisions to predict for some time. We expect the MPC to deliver a 25 basis point cut on Thursday, albeit the vote on rates appears almost too close to call, and could be evenly split between the hawks and doves. On balance, we think that we’ve seen enough progress on inflation for those members that were close to voting for a cut in June to shift their allegiance in favour of the doves. There is, however, a high degree of uncertainty surrounding this view, particularly given the lack of communications from MPC members since the June meeting, in part due to the blackout period surrounding the general election.  Currently, the money markets indicate there’s a 59% chance of a rate cut on Thursday.  Ryan adds:  As this is not yet fully priced in, an immediate rate reduction would likely trigger some downside in the pound, albeit an upbeat set of communications, particularly a sizable upward revision to the GDP forecasts, could limit the extent of any sell-off.”    Related: Bank of England set to rain on hopes of interest rate cut after economic bounce       11.11am BST   In the UK, the Bank of England has created a new cost benefit analysis panel to provide advice when new rules are proposed for firms and financial market infrastructures. It is chaired by Laurel Powers-Freeling, who is also the chair of Uber UK.  Sam Woods, Deputy Governor for Prudential Regulation and Chief Executive Officer of the PRA, said: “Cost benefit analysis is an essential part of policy development, and I’m delighted that we’ve been able to attract such a strong panel to help ensure that we do the best job we can in this vital area.”      10.53am BST  S&P cuts Bangladesh's credit rating as curfew and protests hit economy  Away from Europe, credit rating agency S&P has downgraded Bangladesh’s credit ratings to B+ from BB-, nearly two weeks after the government imposed a curfew to quell deadly student protests. S&P cited a sustained decline in Bangladesh’s foreign exchange reserves, which it says shows there is persistent pressure on the country’s external metrics. Earlier this month, the Bangladeshi government declared a national curfew and announced plans to deploy the army to tackle the country’s worst unrest in a decade, with AFP reporting that at least 105 people have died in the unrest.   Related: National curfew imposed in Bangladesh after student protesters storm prison   The protests began this month on university campuses as students demanded an end to a quota system that reserves 30% of government jobs for family members of veterans who fought in Bangladesh’s war of independence in 1971. Those protesting have argued that the policy is unfair and discriminatory as young people struggle for jobs during an economic downturn and instead benefits members of the ruling Awami League party, which is led by the Hasina.     10.40am BST   The drop in German GDP in the last quarter is a worry, says Joshua Mahony, chief market analyst at Scope Markets:  The trajectory of the German economy remains a concern for Europe, with the manufacturing powerhouse seeing second quarter growth fall back into negative territory (-0.1%). Fortunately, things are more stable for the eurozone as a whole, with the latest GDP figure beating expectations to post a second consecutive 0.3% reading in Q2.      10.23am BST  CEBR: Eurozone has turned a corner  Pushpin Singh, senior economist at the CEBR think tank, predicts the eurozone’s growth prospects will improve this year:  “Flash estimates from Eurostat indicate that the Eurozone economy grew by 0.3% on the quarter in Q2. This rate was above consensus expectations and matched the corresponding growth rate seen in Q1. The stronger-than-expected growth rate suggests the bloc has turned a corner since the start of the year. Prospects are likely to improve further throughout the year, driven by recent policy loosening by the European Central Bank and expectations for further interest rate cuts down the line. Cebr expects the Eurozone economy to expand by 0.8% in 2024, up from 2023’s growth figure of 0.4%.”       10.21am BST   The eurozone only grew half as quickly as the US in the last quarter. GDP data last week showed that the US economy grew at a 2.8% annualised rate in the second quarter of 2024, or the equivalent of 0.7% quarterly growth.   Related: US economic growth ramps up, growing 2.8% in latest quarter       10.18am BST   Today’s eurozone growth report is “moderate but decent”, says Frederik Engholm, head of Macro & Strategy at Nykredit.  Another moderate but decent GDP print from the eurozone. +0,3% in Q2 (as in Q1). Most notable>> German weakness intact (-0,1%). Germany has stagnated since the covid-crisis, while other major EZ-countries have seen solid growth.  Weak enough for ECB to cut! #dkøko #dkfinans #ECB pic.twitter.com/SULYCvG4gE— Frederik Engholm (@FrederikEngholm) July 30, 2024      10.05am BST  Eurozone grew by 0.3% last quarter  Just in: The eurozone grew by 0.3% in the second quarter of this year, a little faster than expected, despite the economic problems in Germany. Statistics body Eurostat has just reported that GDP increased by 0.3% in both the euro area and the EU in the April-June quarter, which matches the growth recorded in the first quarter of this year. Economists had expected growth to slow to 0.2% in Q2, so this is a little better than expected.  Euro area #GDP up by 0.3% in Q2 2024, +0.6% compared with Q2 2023: preliminary flash estimate from #Eurostat https://t.co/0MICWcyK1T pic.twitter.com/wY4c6rHDlx— EU_Eurostat (@EU_Eurostat) July 30, 2024  Ireland (+1.2%) recorded the highest increase compared to the previous quarter, followed by Lithuania (+0.9%) and Spain (+0.8%), while France grew by 0.3% and Italy and Belgium both expanded by 0.2%. The highest declines were recorded in Latvia (-1.1%), Sweden (-0.8%) and Hungary (-0.2%), while Germany’s 0.1% fall in GDP also dragged on growth.  Another small positive surprise:Eurozone GDP q/q +0.3% (est +0.2%, last +0.3%)Eurozone GDP y/y +0.6% (est +0.5%, last +0.5% from +0.4%) https://t.co/IO4H1aRC34— Mario Cavaggioni (@CavaggioniMario) July 30, 2024   Updated at 10.06am BST    9.41am BST  ING: Germany is the eurozone's growth laggard  The news that Germany’s GDP shrank in April-June (see 9.20am) shows how hard it will be to escape the cyclical and structural headwinds hitting its economy, says Carsten Brzeski, Global Head of Macro at ING. He tells clients this morning that the German economy will continue to hover between hope and despair:  With both the US and the Chinese economies losing momentum, along with new trade tensions, there is very little hope for a strong export-driven recovery. Also, weak industrial orders, high inventory levels and precautionary savings are still weighing on the economy. On top of that, the increasing number of insolvencies and individual company announcements of forthcoming job restructurings are still hanging like the Sword of Damocles over the labour market this year.  However, despite a weak start to the second half of the year, don’t rule out potential positive surprises. In fact, extremely weak May data could have been exaggerated due to many public holidays and long weekends. Plus, only a small improvement in industrial order books is needed to get industrial production growing again, admittedly from low levels. The highest increase in real wages in more than a decade should also loosen even German consumers’ traditionally very tight wallets eventually. All in all, today’s data once again confirms that Germany is the growth laggard of the eurozone. Caught between cyclical and structural headwinds, there is no easy way out of this long stagnation. Nevertheless, a rebound in the second half of the year is still possible, even though it is highly unlikely that it will be a strong one.   Germany’s economic growth in the second quarter was as underwhelming as the country’s medal tally at the Paris Olympics, writes @CarstenBrzeskihttps://t.co/4QnHWMqSZ3— ING Economics (@ING_Economics) July 30, 2024      9.35am BST   Portugal grew by a modest 0.1% in the last quarter, new data shows. Statistics Portugal reports:  The contribution of domestic demand to quarter-on-quarter rate of change of GDP became positive in the second quarter, with an increase of investment and a slowdown in private consumption. The contribution of net external demand became negative, with exports of goods and services having a nil rate of change.   On an annual basis, Portugal’s economy was 1.5% larger than a year ago.     9.33am BST  Italy keeps growing  The picture is better in Italy, though, where the economy continues to grow. Italian GDP rose by 0.2% in the April-June quarter, the fourth quarter of growth in a row. Statistics body Istat reports that the services sector grew, while industry, and the agriculture, forestry and fishing sector, dragged on growth.  The Gross Domestic Product (GDP) in Italy expanded 0.20 percent in the second quarter of 2024 over the previous quarter.https://t.co/4KYXd8Q0GK pic.twitter.com/9ZOXe00ww4— TRADING ECONOMICS (@tEconomics) July 30, 2024      9.20am BST  Germany's economy shrinks unexpectedly  Newsflash: Germany’s economy is back on the brink of recession. Germany’s GDP shrank by 0.1% in the second quarter of this year, new data from statistics body Destatis shows. That’s a blow to Berlin’s government, which has been hit by an ailing train network, the surge in energy prices after Russia’s invasion of Ukraine, protests by farmers, weaker demand from China, and a rise in support for far-right politicians. Economists had expected growth of 0.1% in the quarter. The decline in activity was due to a fall in manufacturing and construction investments. Destatis reports that “investments in equipment and buildings, adjusted for price, seasonal and calendar effects, in particular decreased” in the last quarter. The drop in GDP in the last quarter follows 0.2% growth in the first quarter of 2024. A technical recession is defined as two quartery contractions in a row.  Germany’s surprise GDP contraction casts a shadow over euro-area growth https://t.co/N2zxQFHrjd via @weberalexander @WHorobin @Alemrome pic.twitter.com/60d3pl0PuW— Zoe Schneeweiss (@ZSchneeweiss) July 30, 2024  This takes the shine off a decent start to today’s eurozone growth data, with both Spain (+0.8%) and France (+0.3%) beating expectations…..  Updated at 9.48am BST    9.11am BST   Here’s our news story on BP’s latest profits:   Related: BP to hand investors $7bn this year after profit beats forecasts       9.08am BST  French finance minister says growth could beat forecasts  France’s finance minister, Bruno le Maire, has predicted that growth could beat the outgoing government’s forecast this year. He welcomed the better-than-expected 0.3% rise in GDP reported this morning, telling reporters:  “We will probably have growth after all that is better than the 1% forecast in February. “For two years, France has outperformed; our economic policies work and are giving tangible results.”   France’s stronger-than-expected growth could help the country close the budget deficit, says caretaker Finance Minister Bruno Le Maire https://t.co/V5KKLGRbdN— Bloomberg (@business) July 30, 2024      9.06am BST  How cruise ship boosted French GDP  We flagged earlier that a ship delivery boosted France’s exports in the last quarter. Reuters is now reporting that the vessel in question is the Utopia of the Seas cruise ship, which was delivered to Royal Caribbean. The ship, which cost over £1bn, helped to lift France’s transport equipment exports by +1.8%, and overall exports by 0.6%. The Daily Mail recently took a trip on Utopia of the Seas – they report it includes five pools, a zip line, an aqua park, a surf simulator, and an on-board train.  😂🤣  Love this - A cruise ship saved the French GDP data. “Foreign trade added 0.2 percentage points to GDP as the delivery of the Utopia of the Seas cruise ship to Royal Caribbean helped exports grow 0.6% while imports stagnated.” https://t.co/VMwzf9OVwu— PiQ (@PiQSuite) July 30, 2024      9.04am BST  Greggs raises prices of some items in face of higher staff wage bill  High street bakery chain Greggs is putting up some of its prices, after its pay bill was pushed up by the rise in the minimum wage this year. Greggs’s CEO Roisin Currie has told the PA news agency that the company has increased the prices of some items on its menu by 5p and 10p in recent weeks, but has kept meal deal prices unchanged. Currie – who said in March that price rises weren’t planned – says prices were raised to offset higher pay for its 32,000-strong workforce, having raised salaries earlier this year ahead of the increase in the National Living Wage. She said:   “The biggest inflation cost right now is the increase in the National Living Wage and making sure our employees get the wage increases that are appropriate. “That puts pressure on the cost increases within the business.”   Updated at 9.15am BST    8.48am BST   Estate agent Foxtons has reported that this month’s general election has had little impact on customer behaviour or market dynamics. Foxtons says trading in July is in line with expectations, after revenues rose by 11% in the first six months of 2024. Pre-tax profits jumped by almost a quarter, to £7.5m.  Foxtons makes a dramatic 2024 comeback with double-digit revenue and earnings growth driven by the volume of new lettings business, the acquisition of Ludlow Thompson paying off, and sales mkt gains. Over the first half of the year revenue inc’d 11% across all 3 businesses.·… pic.twitter.com/UisJcnUWIr— Emma Fildes (@emmafildes) July 30, 2024  CEO Guy Gittins says:  “The strong momentum we started the year with has continued, with double-digit revenue and earnings growth and our position as London’s largest Lettings and Sales agency reinforced. “Despite macro headwinds and the election interruption, we continued to outperform the market, delivering strong Sales revenue growth of 28% and market share growth of 30%. Growth was also delivered in Lettings, with a double-digit increase in new business volumes, further bolstered by the acquisitions we made in 2023.      8.43am BST  Standard Chartered welcomes \"serious\" Labour government  Bank CEOs have largely welcomed prime minister Kier Starmer’s government with open arms, cheering the country’s economic trajectory and political stability after years of uncertainty.  And the boss of the London-headquartered but emerging markets-focused lender, Standard Chartered, is no exception. Bill Winters told journalists this morning that Labour appeared to be a “serious government” that was supportive of business and ready to tackle fiscal challenges that have dogged the UK economy. He said:  The new Labour Government is a serious government and they’ve set out a series of serious statements and platforms, including what the chancellor said yesterday in terms of addressing some of the fiscal challenges that we know are very present in the country. The rhetoric during the election period and in the early days of the government has been supportive of business. I think it’s been tempered by realism about the economic challenges and the fiscal challenges that the UK faces. But I have every confidence that the Chancellor and the rest of the government will pursue their policies in a very thoughtful, open and transparent way. And that’s as much as we could ask.   Winters added that he was “happy” to be headquartered in the UK, which he described as having a robust regulatory environment, a “very stable political environment” and “extraordinarily good rule of law” and corporate governance, adding:  “So there’s certainly nothing that has changed in terms of our views on the attractiveness of the Labour government”.    Related: Reeves moves fast to tackle £22bn budget shortfall ‘covered up’ by Tories   His comments came as the bank raised its earnings outlook, and announced its largest-ever share buyback worth $1.5bn. It sent Standard Chartered’s FTSE 100-listed shares up 5.3% at the start of trading.     8.37am BST   Shares in drinks giant Diageo have sunk to the bottom of the FTSE 100 leaderboard, down 8%, after reporting a drop in sales and profits. Diageo, whose brands include Johnnie Walker, Captain Morgan, Guinness, Smirnoff and Baileys, posted a 1.4% drop in reported net sales in the year to the end of June, to $20.3bn. Pre-tax profits dropped to £5.46bn, from £5.64bn a year earlier. CEO Debra Crew told shareholders that the last financial year had been a challenging one for Diageo and the wider industry, due to “continued macroeconomic and geopolitical volatility”. Crew added:  Fiscal 24 was impacted by materially weaker performance in LAC [the Latin America and Caribbean region]. Excluding LAC, organic net sales grew 1.8%, driven by resilient growth in our Africa, Asia Pacific and Europe regions. This offset the decline in North America, which was attributable to a cautious consumer environment and the impact of lapping inventory replenishment in the prior year.  Great Britain was a highlights for Diageo, though – net sales here grew by 5%, thanks to stronger demand for Guinness – including the zero-alcohol Guinness 0.0 drink. Diageo’s shares are at a four-year low, hitting levels last seen in March 2020, when the Covid-19 pandemic forced pubs, bars and restaurants to close.  Updated at 8.38am BST    8.26am BST   Shares in BP have jumped by 2.6% in early trading, after its profits beat forecasts this morning. It’s the second-highest riser on the FTSE 100 index, after Standard Chartered bank (+4.8%), which announced its largest-ever share buyback programme this morning after a rise in profits.     8.18am BST   Austria has bucked the trend, though, by reporting no growth in the last quarter:  ⚠️  AUSTRIAN Q2 PRELIMINARY GDP -0.0% Q/Q VS REVISED +0.2% IN Q1 - WIFO— PiQ (@PiQSuite) July 30, 2024   Goldilocks in Spain (higher GDP, lower CPI) and horrible stagflation in Austria (higher PPI, no GDP growth). pic.twitter.com/3nH4gZSjxH— Front End Financier (@just_KarlJ) July 30, 2024      8.12am BST  Spain grows by 0.8%  Newsflash: Spain’s economy has also grown faster than expected in the last quarter. Spanish GDP expanded by a pacy 0.8% in Q2, the National Statistics Institute reports, comfortably beating forecasts of 0.5% growth. That matches Spain’s growth in January-March.  The Gross Domestic Product (GDP) in Spain expanded 0.80 percent in the second quarter of 2024 over the previous quarter.https://t.co/MUSK1wytp8 pic.twitter.com/vGxCdf6wKE— TRADING ECONOMICS (@tEconomics) July 30, 2024  On an annual basis, Spain’s economy grew 2.9% over the last year.  The Gross Domestic Product (GDP) in Spain expanded 2.90 percent in the second quarter of 2024 over the same quarter of the previous year.https://t.co/4Kvoi1aell pic.twitter.com/6KYaTeBv55— TRADING ECONOMICS (@tEconomics) July 30, 2024      8.02am BST  Anger over BP's profits  Campaign groups are angered by BP’s latest multi-billion dollar profits. Global Witness has calculated that BP had paid “a staggering” £11.7bn to shareholders since June 2023 – when the world began a 12-month stint of temperatures 1.5C above the pre-fossil fuel era.   Related: Temperatures 1.5C above pre-industrial era average for 12 months, data shows   After BP reported an underlying profit of $2.76bn this morning, Alice Harrison, head of Fossil Fuel Campaigns at Global Witness, says:  “As the world faces record-breaking heat, most of us are desperate to see urgent action on the climate crisis. Unfortunately, it’s clear that BP couldn’t care less. While millions of us struggle with high temperatures and high bills, BP are raking in billions of profits, paying out massive dividends, and doubling down on dirty new oil and gas projects. Big oil companies like BP know their fossil fuel products are behind more deadly heatwaves, storms, and wildfires around the world, but instead of investing in clean energy, they are continuing to profit from people’s misery. Fossil fuel companies like BP are turning a blind eye to climate breakdown, so now governments must act. Rather than propping up the climate-wrecking fossil fuel industry, we need them to make polluters pay for the damage they have already caused, and steer us towards a cleaner, greener future.”  Warm This Winter spokesperson Fiona Waters points out that BP has recently rowed back on some of its green energy plans:  “BP’s obscene profits today and the fact they have made £38.4bn since the start of the energy crisis shows they’re not interested in turning off their oil and gas cash cow. They have rolled-back on their green pledges that would mean lower bills, an end to energy price shocks and would also help save the planet.”    Related: BP imposes hiring freeze and halts new offshore wind projects   Chiara Liguori, Oxfam GB’s Senior Climate Justice Policy Advisor, says low-income countries desperately need help to handle the impact of the climate crisis:   “It is inexcusable that BP, one of the world’s most polluting and profitable fossil fuel companies, continues to rake in billions of pounds while low-income countries are in urgent need of funds to tackle the devastating impacts of the climate crisis despite doing the least to cause it. “The world can no longer afford fossil fuel companies putting short-term profits above people and planet. The costs of inaction are already here with deadly heat waves, wildfires, flooding and drought but it is people living in poverty who are left paying the highest price.       7.50am BST   On this morning’s growth figures from France, economist Claus Vistesen of Pantheon Macroeconomics points out that French food consumption fell in the last quarter, while consumption of gas and electricity, and cars, rose.  French Q2 GDP growth coming in above consensus, as we expected, though not really for the reasons we anticipated. The net boost from foreign trade ex inventories looks vulnerable to a reversal and/or revisions. 1/2— Claus Vistesen (@ClausVistesen) July 30, 2024   Domestically, meanwhile, solid growth in services spending and capex are working hard to keep the ship steady. Autos and energy spending up on the quarter; food spending down sharply, again. Get in them Carrefours and Auchans my French friends! 2/2— Claus Vistesen (@ClausVistesen) July 30, 2024      7.47am BST  WPP appoints former BT boss Philip Jansen as its new chair  Philip Jansen, the former chief executive of BT, has been appointed as the new chairman of advertising giant WPP. Jansen, who stood down as chief executive of BT in February after almost five years in the role, will join the board of the FTSE-listed WPP in September and formally take over as chair from January. “Philip brings a valuable blend of experience, from leading technology and consumer goods companies to transforming large, complex organisations and creating significant value for shareholders,” said Angela Ahrendts, senior independent director at WPP. Jansen, who began his career at Gillette to Ariel maker Procter and Gamble before moving into marketing director roles at Dunlop Slazenger and Telewest, led a BT turnaround strategy that included cutting 55,000 jobs by 2030 and investing £15bn in the nationwide roll out of full fibre broadband and 5G mobile networks. Earlier this month, Jansen, who took home a bumper £3.7m in pay and bonuses in his lat year at the telecoms company, was linked with a private equity backed takeover bid of British pest control firm Rentokil.   Related: Ex-BT boss pockets £3.7m final pay deal as group plans to axe 55,000 jobs   “Technology is changing the face of commerce, media and communications, and I am very excited to join a company at the forefront of this change,” said Jansen.     7.43am BST   Over the first half of this year, though, BP’s profits are lower than a year ago. The oil giant made $5.479bn in January-June, down from $7.552bn in the first six months of 2023. That follows a drop in Q1 – when earnings shrank to $2.7bn from $5bn a year ago (as we covered in May).     7.40am BST  BP raises dividend as second-quarter profit beats expectations  In the energy sector, BP has lifted its dividend after beating profit forecasts for the last quarter. BP has reported an underlying profit of $2.756bn for the second quarter of the financial year, up from $2.589bn in the same quarter in 2023, and slightly higher than the $2.723bn it earned in Q1. That beat analyst expectations of $2.6bn. BP said the profit was due to “an average” performance in gas marketing and trading, lower refining margins, stronger fuels margins and “lower taxation”. It adds:  The underlying effective tax rate (ETR)* in the quarter was 33% which reflects the impact of the reassessment of the recognition of deferred tax assets.  BP is raising its dividend to eight cents per share, up from 7.27/share. The oil giant has also announced another share buyback, worth $1.75bn, for the last quarter, as it continues to use spare cash to buy back equity. Kate Thomson, BP’s chief financial officer, says:  We generated strong operating cash flow in the quarter, which helped reduce net debt to $22.6 billion. Our decision to increase our dividend by 10%, and extend our buyback programme commitment to 4Q 2024, reflects the confidence we have in our performance and outlook for cash generation. We are maintaining a disciplined financial frame and remain committed to growing value and returns for bp.      7.40am BST  Introduction: France gets Eurozone GDP Day off to a good start  Good morning, and welcome to our rolling coverage of business, the financial markets and the world economy. It’s eurozone GDP day, when we learn how the countries which share the single currency are faring economically. And the early news is that France’s economic growth was stronger than expected in the second quarter of this year. French GDP expanded by 0.3% in the April-June quarter, new data from statistics body INSEE shows, beating expectations for 0.2% growth. That matches the 0.3% growth recorded across the eurozone’s second-largest economy in the first quarter of the year. It suggests France’s economy was stronger than expected this spring – before Emmanuel Macron stunned Europe by calling snap parliamentary elections last month.   Related: The Guardian view on Macron’s snap election: France on the brink | Editorial   INSEE reports that domestic demand “picked up slightly”, and added to growth. There was also a “slight rebound” in investment (or gross fixed capital formation). Household consumption was stable in the quarter, while foreign trade also made a positive contribution to growth. Exports grew by 0.6%, driven by a rise in transport equipment – which INSEE attributes to the “delivery of a new ship”.  \"delivery of a ship\" klaxon in the French GDP data ... had a lot of fun with that last time.— Claus Vistesen (@ClausVistesen) July 30, 2024  INSEE has previously predicted that the Olympic Games’ will lift France’s economic growth in the third quarter of this year Economists predict that the wider eurozone also grew in the last quarter, by an estimated 0.2%. We’ll find out if they’re right at 10am, after getting growth figures from Italy, Spain and Germany too. The agenda  8am BST: Spain’s Q2 2024 GDP report 9am BST: Germany’s Q2 2024 GDP report 9am BST: Italy’s Q2 2024 GDP report 10am BST: Eurozone GDP report for Q2 2024 1pm BST: Germany’s inflation rate for July 2pm BST: US house price index for May 3pm BST: US consumer confidence index for July   Updated at 7.41am BST \n",
      "The fortunes of Australia’s economy – and political polling of the Albanese government – may well hinge on the strength of Wednesday’s inflation numbers. Economists expect headline consumer prices in the June quarter will land at an annual rate of 3.8%, accelerating from 3.6% in the prior three months. Core inflation – known as the trimmed mean – will be steady at 4%, a Bloomberg survey found.   Related: There’s a huge amount riding on the latest inflation figures. Here’s why   The Reserve Bank’s own forecasts in May of 3.8% for both headline and core inflation for the quarter just ended were both elevated from its predictions early this year. An upside surprise will likely heap pressure on the central bank to lift its cash rate to 4.6% – a 14th hike in this cycle – when its board meets next Monday and Tuesday.  Sign up for Guardian Australia’s free morning and afternoon email newsletters for your daily news roundup  The Australian Bureau of Statistics will release the inflation data at 11.30 AEST. Should it meet expectations – or even fall shy – the calls instead will be for early interest rate cuts to ensure an economy already close to stalling doesn’t sink into recession. The RBA wants to be reassured inflation remains headed towards its preferred 2-3% range, a goal it currently expects will be achieved by the end of 2025.  Interactive  Households and businesses with debt are hoping it won’t take another RBA rate rise to ensure that trajectory is retained. Since the central bank began hoisting rates in May 2022, monthly mortgage repayments have increased about $240 per $100,000 borrowed, according to RateCity. Another quarter-point hike would add about $15 to the load and erode some of the government’s modified stage-three tax cuts delivering families about $240 a month. The investment bank UBS is in the minority, predicting the RBA will hike its cash rate to 4.6% next week. CPI has remained above the bank’s target band for 12 consecutive quarters and the past three months will make it 13, it noted. Governor Michele Bullock said in May the RBA board “has been clear that it has a low tolerance for allowing inflation to return to target more slowly than currently expected”, the bank noted. To do so “would risk eroding public credibility in our commitment to low and stable inflation”. Even accounting for some stickiness in inflation, Australia would be almost alone among rich nations in considering another rate rise. Only Japan, which in March lifted its key interest rate for the first time in 17 years as that nation’s deflation threat finally ebbed, is still considering raising borrowing costs. Canada and the European Union have started cutting rates and the US may follow in September. That downward shift may give the RBA’s nine-member board additional cause to stay put – as it has done since last November. Politicians have sought to frame the outcome knowing the possible boost – or hit – to the government’s standing may pivot on the ABS readings. An election this side of Christmas would be in prospect if the government viewed the RBA’s job was done. Another rate rise, though, would likely delay any election until next May, when the term ends, as any rate relief hopes dim. “Australians are in enormous pain because of Labor’s homegrown inflation crisis,” shadow treasurer Angus Taylor said, adding the country was the only one among the top 10 economies to have higher inflation compared with the end of 2023. “Australians face higher prices, higher interest rates and higher taxes for longer because of Labor’s bad economic management,” Taylor said. Treasurer Jim Chalmers said inflation was “persistent” in the June quarter but the government remained confident it would resume its moderation from now. “We expect the big drivers on Wednesday to be things like insurance and rent and petrol, and of course petrol is impacted by the global oil price – and all this uncertainty we’re seeing in the Middle East,” Chalmers told ABC TV on Tuesday. “None of those factors are about government spending.” Research out this week from the ANZ senior economist Blair Chapman noted much of this year’s inflation pulse was driven by so-called administered or indexed prices, such as university fees. These were immune from higher interest rates in the near term.  “Non-administered and non-indexed inflation has declined notably and is running around levels consistent with the RBA’s target band on a six-month annualised basis,” Chapman said. In the March quarter, such items rose 3.3% year-on-year, down from a peak of 9%. In other words, an RBA rate rise “would likely slow activity in interest rate-sensitive sectors, slow employment growth and add to unemployment”. More reason to hold fire, then. Unless those CPI numbers light the fuse.\n",
      "Greggs has increased the amount it charges for some of its items, including an extra 5p on sausage rolls and their vegan equivalent, despite the bakery chain having said earlier this year it had no plans to increase prices. Roisin Currie, chief executive of the Newcastle-based group, said it had increased prices on a small number of products in recent weeks as it continued to come under pressure from a growing wage bill. She said Greggs had held off on other goods – such as breakfast and lunch meal deals – even though cost inflation remained at 4% to 5%. “The main driver of that is wages,” Currie said. “We put through a wage rise in January.”   Related: Diageo hit by first post-Covid sales fall but Guinness soars in Great Britain   Sausage rolls and the vegan variety have gone up 5p to £1.25, while a four pack has risen 10p to £3.75. Currie said Greggs had “no price increases on the cards currently” as it competes with other fast food chains, including McDonald’s, for a share of the breakfast and dinner markets. Greggs said in March that it had overtaken the US-owned burger chain to become the UK’s most popular breakfast spot. In the same update, Currie had said the chain had “no plans for further price rises” on top of December’s increases of between 5p and 10p on some items. McDonald’s said on Monday that its global sales had fallen for the first time in nearly four years in the second quarter as inflation-weary consumers skipped eating out or chose cheaper options. Currie said Greggs had benefited during the cost of living crunch as consumers sought out low-cost options for eating on the go. However, the price rises at Greggs reflect stubborn levels of inflation in the UK on food as some commodities continue to increase in price and wage rises add to costs. Shares in Greggs rose nearly 5% on Tuesday as the group reported a 16% rise in underlying first-half profits to £74m, 5% better than expected. Sales rose nearly 14% to £961m. Clive Black, a retail analyst at Shore Capital, said he expected some “modest upgrades” in profit expectations, although Greggs said its hopes for the full year remained the same. Currie said sales growth had been driven by new store openings and relocations as well as new products, including pizza box deals and iced drinks such as its mango and strawberry cooler and the strawberries and cream refresher. She said the sporting summer, including the Euro 2024 men’s football tournament and the Olympics, had helped increase digital engagement and home delivery as fans bought snacks to accompany their home viewing. Delivery now makes up almost 7% of Greggs’s sales compared with 5.3% a year ago. The group opened a net 51 stores during the first half and it plans up to 160 during the next six months. Currie said most of these would be in locations such as railway stations, airports and retail parks, where there was an opportunity to open in the evening and further expand the group’s share of the dinner market. “The evening is growing faster than the average [store sales],” she said “We are very focused on it and believe that long term it will be a very profitable part of the business.” She said trading in the evening was not only important for walk-in sales but also for delivery.\n",
      "Valerie Labi, co-founder and chief executive of Wahu Mobility, enjoys a challenge. “If I see a problem and I think it can be solved, I follow that thread,” she says. The latest problem for Labi, whose company has produced Ghana’s first electric bicycle, is trying to persuade the country’s delivery riders to swap their ageing petrol motorcycles for herWahu ebikes. The idea for Wahu, which means “horse” in the Dagbani language of northern Ghana, came to her when she moved to the region’s capital, Tamale, in 2015, and heard neighbours complain about how expensive and unreliable transport was. Looking at ways to overcome this, Labi began buying secondhand push bikes during the pandemic in 2020 and turning them into ebikes by adding conversion kits bought from Amazon. Four years later, the company has now designed and developed its own licensed ebike and technology platform for delivery riders, opened an assembly plant in Ghana’s capital, Accra, and is about to close on an $8m investment round.   Lots of businesses are going to need last-mile mobility – do we really want them to be 14-year-old petrol vehicles?   There are now 300 delivery riders using Wahu ebikes in Accra, as the company looks to take advantage of Africa’s growing “last mile delivery” market – the final link in the supply chain to customers – a sector that is set to be worth $2.3bn by 2030. A further 2,000 users are expected to join within the next year. Labi has plans to eventually produce 50,000 Wahu ebikes a year and to introduce them across Africa, making huge carbon reductions in the process. “The average age of a vehicle in Ghana is 14 years,” she says. “We know there are going to be a lot of Amazon-type businesses needing last-mile mobility – do we really want them to be 14-year-old petrol vehicles?” The serene surroundings of the Landmark hotel in London’s Marylebone are a far cry from the hectic roads of central Accra. But Labi, who is in the UK as part of a trade mission to promote investment in Ghana’s small and medium-sized enterprises (SME) sector, talks enthusiastically about how the Wahu model works. Riders buy the bikes under a payment plan of between 18 and 24 months, working out at up to $25 a week. Once on board, they are automatically put on Wahu’s fleet platform, which has partnerships with companies such as Bolt, so they have a consistent pipeline of work. Wahu ebikes are also cheap to run, costing just $13.60 a month to power, compared with $250 for a petrol vehicle. Alongside the physical ebikes, Wahu has also developed a technology platform. This not only tracks the bikes – no Wahu has been stolen yet – but measures carbon savings from journeys, which can then be packaged and turned into carbon credits.   Related: Pollution revolution: can electric motorbikes help clean up Benin’s air?   Its app also gives riders a safety score, with Wahu able to remotely shut down a bike if a user is deemed to be riding too dangerously. Some may see this level of monitoring and control as an overreach by the company, but Labi says the data is essential to making the product affordable. “It comes back to risk – things in our [Ghanaian] market are expensive because there’s no data,” she says. “Giving digital footprints opens people up to more affordable rates. That is why we can offer cheaper insurance – that is why we can offer them payment plans.” Labi was born and brought up in Welwyn Garden City, Hertfordshire, by Ghanaian parents who came to the UK for work in the 1970s. However, despite having lived for most of the past 15 years in Ghana, she didn’t visit the country until she was 14. “You only really got sent to Ghana if you were badly behaved,” she jokes. There was little chance of this happening to Labi. Head girl at Queenswood school in Hatfield, Hertfordshire, she then studied economics at Southampton University, where she began an internship at accounting firm EY and was subsequently hired. She initially envisioned a career in finance for herself, until the global crash of 2008. During this period, she saw colleagues who had invested huge amounts in shares in failed banks lose everything. It proved a defining moment for her. Disillusioned, she visited Ghana for Christmas in 2008 and didn’t return to the UK for another six years. Labi, who describes herself as a serial impact entrepreneur, has since headed several social enterprises across Ghana, enterprises that tackled some of the country’s biggest challenges. This includes a period at Global Mamas, an organisation that provided financial training and business support for more than 300 female-led SMEs in the country. She also founded Sama Sama, a Tamale-based sanitisation social enterprise providing low-income families the opportunity to buy toilets on an affordable payment plan. It operates across eight regions in Ghana and has served more than 100,000 people. Meanwhile, running Wahu Mobility, which she officially launched in 2022 alongside co-founder Toni Heigl, has not come without its own difficulties, which included being heavily pregnant during her initial talks with investors. Labi, who has three children, says that trying to raise funds while expecting was a challenge and made her question whether people would invest. However, she believes the Ghanaian culture is a lot more conducive to helping mothers succeed in business, with family and extended family often willing to look after children. “If you look at those leading Ghana’s banks, or those heading telecoms companies, many are women who have children,” she adds. Wahu is about to complete on the $8m it has targeted for its first round of funding, with the money to be channelled into delivering more of the bikes at its assembly plant, which opened in February. After a series of prototypes, the company has landed on a bike with front and back suspension so it can withstand Ghana’s potholes, as well as a thumb throttle to ensure quick acceleration at its busy junctions – something Labi says is essential in the country. It also includes two batteries with a combined range of 87 miles (140km) that can be recharged at home and do not require expensive charging infrastructure. Labi believes that this vehicle design, made with African conditions in mind, could set it apart from the cheaper ebikes being imported into the continent, and prove popular with delivery riders in other African countries. Wahu has already begun trialling ebikes in Lomé, the capital of neighbouring Togo, and is also targeting Zambia, Senegal, Morocco and Nigeria. It similarly has sights on becoming the first company to develop Ghana’s first four-wheel electric vehicle, with the business set to unveil its first four-wheeler for Africa in the coming months. But whether two-wheelers or four-wheelers, it is clear that Labi thinks the model works, and the benefits for Africa’s environment and economy could be huge too. Problem-solver Labi wants to be front and centre of the solution. “Our strategy is to become the sustainable fleet of Africa,” she says. CV Age 38Family Husband and three children, aged 9, 4 and 2Education University of Southampton BSc in Economics, Masters in Sustainability Leadership at Cambridge UniversityPay Seeing my riders make money and go greenLast holiday Zambia, Angels Pool and Victoria FallsBest advice she’s been given “Grow and Be Yourself”Biggest career mistake Balancing bikes and babies ….the journey of building a start up through pandemics and pregnancies is not for the faint hearted.Phrase she overuses Can I get a Wahu?!How she relaxes: Laughing and chilling with family\n",
      "BP’s shareholders can expect a multibillion-dollar payout this year after the oil giant reported better than expected quarterly profits of almost $2.8bn (£2.2bn) and set out plans to develop a new oil hub in the Gulf of Mexico. The oil company has angered green groups by giving the go-ahead to develop potential oil resources of 10bn barrels from the new Kaskida project 250 miles south-west of New Orleans, after scaling back its green investments in the last quarter. At the same time it will raise its dividend payments by 10% while buying back stock worth $1.75bn over the next three months to bring its total buy-backs for the first half of the year to $3.5bn – and $7bn for 2024 as whole.   Related: Ofgem to encourage flexible use of cheap off-peak energy   In total BP has paid out $14.8bn to shareholders since June 2023, the month that marked the start of the world’s first year-long breach of the 1.5C heating limit, according to an analysis by Global Witness. Alice Harrison, head of fossil fuel campaigns at the campaign group, said: “While millions of us struggle with high temperatures and high bills, BP are raking in billions of profits, paying out massive dividends, and doubling down on dirty new oil and gas projects.” The shareholder windfall comes after BP reported better-than-expected profits of $2.76bn for the three months to the end of June, compared with analyst forecasts of $2.54bn for the quarter. The shares rose 2% in early trading on Tuesday. The company warned investors earlier this month to expect “significantly lower” profit margins from its refining business, which could wipe between $500m and $700m from its earnings for the quarter. It also told investors it would take a $2bn writedown resulting from a plan to scale back its refining operations at its Gelsenkirchen biofuels refinery in Germany by a third from next year in response to weaker demand. The chief executive, Murray Auchincloss, said BP was committed to delivering “a simpler, more focused and higher-value company” for shareholders. But the strategy has angered climate campaigner by appearing to scale back its green investments while pushing forward high-value fossil fuel projects. In addition to cutting investment in its German biofuels refinery the company has also ruled out further investment in offshore wind while driving forward plans for major oil projects. Auchincloss told the Guardian that BP is committed to transforming the company from an oil company to an “integrated energy company” and has set out plans to build between five and 10 green hydrogen projects this decade to help produce sustainable aviation fuel and decarbonise BP’s refining operations. He said BP was poised to go ahead with two green hydrogen projects, which produce the carbon-free gas through electrolysis using renewable power, at its Castellón refinery in Spain and at its Lingen plant in Germany. BP is also leading the world in biofuels, biogas and electric vehicle charging infrastructure, Auchincloss said. “What the world needs now is construction – not more targets and pathways. That’s what we’re doing. We’re getting things done.” Although the oil company’s underlying replacement cost profit – the metric most closely observed by City analysts – reached $2.8bn for the second quarter, its reported result showed a £129m loss, compared with a reported profit of £1.8bn in the same quarter last year, because of the refinery writedown. Harrison said: “Fossil fuel companies like BP are turning a blind eye to climate breakdown, so now governments must act. Rather than propping up the climate-wrecking fossil fuel industry, we need them to make polluters pay for the damage they have already caused, and steer us towards a cleaner, greener future.”\n",
      "Fears of a China trade war erupting under a second Trump presidential term are overblown, according to bosses at Standard Chartered bank, as they suggested that the country’s real estate woes were “largely in the rearview mirror”. While the London-headquartered bank makes most of its money in Asia, particularly in Hong Kong and Singapore, its chief executive, Bill Winters, played down the impact that increasingly strained relations between Washington and Beijing might have on the business. Winters told journalists on Tuesday that the administration of US president, Joe Biden, had already been “very hawkish on China”, implementing trade restrictions and sanctions that had not exactly thawed relations with one of the world’s largest economies. “Whoever wins this election, Harris or Trump, is likely to continue to be hawkish on China,” Winters said. Any pressure to open up China to the rest of the world will boost business for a cross-border lender like Standard Chartered, Winters added. “The more China is under pressure from international partners, the more they’re inclined to open up, in order to establish China as a very substantial trade and investment player globally,” Winters said. He added: “So I won’t say we’re not worried because tension in and of itself is bad for global sentiment and undermines business confidence to some degree. But this is not impacting our business and, you might say, quite the contrary.” The comments came as the bank reported pre-tax profits of $1.6bn (£1.25bn) in the second quarter, having beat the $1.5bn forecasted by analysts, thanks in part to growth across its wealth division that manages and invests money for rich clients. Official figures released earlier this month also showed that China’s economy grew 4.7% in the second quarter, falling short of expectations for a 5.1% rise. Standard Chartered warned that China’s growth rate was “unlikely to return to pre-pandemic levels”, but Winters insisted policymakers were being very deliberate in their management of a maturing economy, including a recent real estate crisis that resulted in the forced liquidation of developer Evergrande. The bank’s chief financial officer, Diego De Giorgi, said it would be a “fool’s errand” to call a bottom on the China real estate market woes. However, he believed the financial ripple effects had largely been accounted for. “From our point of view, it’s a problem that is largely in the rearview mirror,” De Giorgi said. In February, the bank said it was expecting a maximum $1.2bn hit linked to its Chinese commercial real estate portfolio. “We have every confidence that China will maintain strong growth,” Winters added. “It’s still the the largest, or the second largest, contributor to global growth in any particular period, and we expect that will be the case in the quarters and years to come.”\n",
      "All Rex flights between capital cities have been grounded and the airline has entered voluntary administration just hours after the Albanese government suggested it would intervene to ensure the nation’s third-largest carrier didn’t collapse. Late on Tuesday, EY – formerly known as Ernst & Young – announced it had been appointed as administrators of the company, and that the airline’s Boeing 737 operations between capital cities such as Sydney, Melbourne and Brisbane had been grounded, with Virgin Australia stepping in to offer impacted passengers rebooking “free of charge”. Rex’s regional operations with its Saab 340 turboprop planes remained unaffected by the administration and would continue to operate. The administrators said Rex and Virgin Australia were also exploring opportunities to support regional customers, including by having Virgin Australia sell Rex’s regional services through codeshare or interline arrangements, and making Velocity Frequent Flyer benefits available to Rex’s regional customers. Earlier on Tuesday, the federal transport minister, Catherine King, said her department had held “significant discussions” with Rex’s leadership after the airline on Monday requested a trading halt ahead of a significant announcement to the market. That announcement had been due by Wednesday morning. King, speaking from the site of the future western Sydney airport, said the government would wait for Rex’s announcement to the ASX which was understood to be in response to a report in the Australian newspaper that the airline had appointed consultants from Deloitte to advise how it could turn around its financial woes. “We’ll wait for Rex to make an announcement … but can I say very, very clearly, the government is in no doubt about the importance of regional aviation and Rex to regional aviation,” King said.   Related: Rex has stopped taking bookings amid reports the airline is about to appoint administrators   “We will work with Rex, we want to make sure that they have a future as part of aviation in this country, and we’re very determined to make sure that happens. We obviously don’t want to do that at any cost, we want to be involved very closely in what that future might look like.” Rural mayors across Australia whose communities rely on Rex for connectivity warned of further isolation if the carrier went under, while leaders of larger regional centres feared airfare price hikes from Qantas if the routes were left without competition. “They’re crucial – this is our highway,” the Devonport mayor, Alison Jarman, said.  Sign up for Guardian Australia’s free morning and afternoon email newsletters for your daily news roundup  The airline’s board – which has been rocked by tensions in recent months – was scheduled to meet on Tuesday evening, amid a report from 10 News that airline staff had been locked out of hotels and company Uber accounts. Rex on Tuesday afternoon was not taking bookings for its jet services between capital cities such as Sydney, Melbourne and Brisbane. Regional services could still be booked at that time. The airline on Monday requested a trading halt following the weekend news story it had engaged Deloitte. Bloomberg first reported on Tuesday that Rex was set to appoint EY as administrators.  Bridget McKenzie, the opposition transport spokesperson, was cautious about the government’s intention to help Rex, noting revelations in Guardian Australia on Tuesday that King had known about Bonza’s financial instability 10 days before it entered administration but turned down the budget carrier’s plea for financial help. McKenzie blamed the government for failing to help smaller airlines compete with Qantas, which Rex had recently tried to do with flights between capital cities. “As soon as Rex made the announcement they were going to tackle the big boys, take them on on that golden triangle and those capital city routes, Qantas all of a sudden took retribution on marginal regional routes. [Qantas] lost money, a bit like $1 milk for supermarkets … to actually damage Rex’s financial position,” McKenzie told ABC TV. The federal Greens leader, Adam Bandt, said the prime minister “should consider just buying Rex”. “Transport is an essential service, so why not protect people who rely on regional services by bringing this critical airline into public hands?” Bandt said. On Monday, the Australian stock exchange announced it had suspended trade in Rex’s shares at the airline’s request “pending it releasing an announcement”. Rex said the trading halt came ahead of an announcement “in relation to a news article published on Saturday”. The competition watchdog’s most recent domestic airline monitoring report stated Rex had a 5% market share in March. At the same time, now-collapsed budget carrier Bonza held 2%. Rex recorded the lowest cancellation rate in March at 0.8% compared with Qantas at 3.8%. Rex in February reported a loss of $3.2m for the first half of the 2023-24 financial year, compared with a $16.5m loss in the previous six months. It said escalating costs, particularly for fuel, made it hard to predict full-year profitability. Rex was initially called Regional Express following its formation after the death of Ansett. Rex has mostly been a regional carrier, operating 36-seater Saab 340 turboprop aircraft. However, in 2020, Rex began vying for a share of the lucrative market between capital cities, seizing on the instability in Australia’s domestic aviation market which occurred when Virgin Australia entered administration and underwent a significant restructuring. Rex leased Boeing 737 jets, including several formerly flown by Virgin, and launched routes between Sydney, Melbourne and Brisbane. However, it has struggled with numerous issues, including allegations of anti-competitive behaviour by Qantas, and difficulty accessing strategically important Sydney airport slots at peak times – a gripe echoed by Bonza. Rex has also confronted a shortage of parts to repair its ageing fleet of Saab 340 aircraft for its core regional operations, which have also been hampered by a shortage of pilots for the smaller planes. Rex shares have halved in value over the past 12 months and were trading at 56.5 cents before being suspended this week. Sources say the drop concerned PAG Asia Capital, the private equity firm that funded Rex’s expansion into capital city routes to the tune of $150m. Rex has also been rocked by leadership tensions, with major shareholder and former executive chair Lim Kim Hai ousted in June. Lim was replaced by John Sharp who had been deputy chair of the board. Sharp, a former Nationals federal transport minister, has in recent years made headlines with his criticism of Qantas and aviation policy. Lim has since pushed to remove Sharp and three other directors from the board, with a special shareholder meeting due to vote on Lim’s demands. The prime minister, Anthony Albanese, said on Tuesday he would consider proposals to save the company but added Rex already received substantial public funding with “no conditions attached”. “One of the things I expressed concern about was having no conditions so Rex, for example, moved away from their traditional role of being a regional airline into flights, for example, from Sydney to Melbourne,” Albanese said. - Additional reporting by Daisy Dumas\n",
      "The delivery of the world’s second-largest cruise ship lifted France’s economy in the second quarter, according to official data that also showed Germany heading into a recession. Built in Saint-Nazaire for the cruise ship operator Royal Caribbean, the Utopia of the Seas added €1bn (£840m) to French economic output, helping to increase trade growth to 0.6% in the three months to the end of June and gross domestic product to 0.3%. The eurozone grew by 0.3% in the third quarter after a revised rate of 0.3% in the first, prompting many analysts to say that the 20-member euro bloc has turned a corner after flirting with recession in 2023.   Related: Germany on brink of recession after GDP shrinks; eurozone beats forecasts with 0.3% growth – business live   Spain powered ahead with a 0.8% growth rate in the second quarter, while Italy’s recovery was maintained by a 0.2% rise in GDP. Germany, the largest eurozone economy, slid back into contraction, recording a 0.1% fall in output. Pushpin Singh, a senior economist at the Centre for Economics and Business Research consultancy, said the eurozone growth rate was better than expected by City analysts and “suggests the bloc has turned a corner since the start of the year”. He added: “Prospects are likely to improve further throughout the year, driven by recent policy loosening by the European Central Bank and expectations for further interest rate cuts down the line.” Bert Colijn, a senior economist at the Dutch bank ING, was more concerned that German growth would become a significant drag on the eurozone. “Germany remains the weak link in this post-pandemic economy but the rest is not fantastic either. “Leave out Spain and you just have an economy that moves along at a lacklustre growth pace.”  France’s economy grew marginally faster than expected and could improve again in the third quarter if the Olympics spur consumer spending, dispelling concerns that deadlock in the French parliament after recent elections would knock the economy off course. The French finance minister, Bruno Le Maire, said the economy’s performance in the second quarter and the Paris Games meant growth this year would probably exceed the outgoing government’s 1% forecast. “We will probably have growth after all that is better than the 1% forecast in February,” Le Maire said. “For two years, France has outperformed; our economic policies work and are giving tangible results.” He added that the better than expected growth could be positive for the strained budget deficit and France needed to stay focused on reducing spending. Anja Sabine Heimann, an economist at HSBC Germany, said industrial orders were weak and German consumers were reluctant to spend, adding that the risks of a recession were “elevated”. The country has suffered almost zero growth over the past two years and avoided a recession only by a whisker. Heimann said many of the ingredients of a slowdown were now in place. “Domestic and foreign industrial orders continue to trend downwards – highlighting little support from industry in the near-term,” she added. “With consumer prices nearly one-fifth above 2019 levels, even after recent strong nominal wage growth, German households have not yet recouped their spending power. “Consequently, their spending scope is still somewhat constrained and there is unlikely going to be a large consumer spending spree.”\n",
      "Chinese carmakers secured a record 11% of the European electric vehicle market in June, as buyers raced to beat EU tariffs on imported EVs that came into force this month. The figures, which include the UK, show that about 23,000 battery electric vehicles were registered in June, up 72% on the previous month as consumers raced to beat the price hike in the EU. According to data analysis by Dataforce, the Chinese state-owned SAIC, parent of the British brand MG, was responsible for the biggest jump but 40% of the imports were registered by dealers rather than drivers themselves, another sign of a pre-tariff sales rush.   Related: ‘High quality, low price and dizzying variety’: how the Chinese switched to electric cars   The electric carmaker sold just under 13,400 cars in June compared with sales of just under 4,000 at rival BYD, which sells the Dolphin and Seal brands. SAIC is subject to the highest EU tariff of 38% compared with BYD cars, which have had a 17% levy imposed since 5 July as part of the EU’s bid to create a level playing field with its own carmakers including BMW, Audi and Stellantis’s Fiat and Renault. Incentives to buy electric cars turbo-boosted sales in Italy, where about €200m (£168m) in subsidies on new EVs ran out within nine hours of their launch, said Dataforce. It comes as fresh customs data from Beijing shows the EU and UK took nearly half all China’s exports of electric cars in the first six months of the year by value. Data analysed by the Chinese trade specialist website Soapbox showed the UK took 12%, while the EU took 36%, compared with just 1% in the US, which slapped 100% tariffs on imports earlier this year. Brazil and Australia were the third equal most important markets at 7% each of all sales, followed by Thailand, UAE and South Korea at 4% each and Israel at 3%. Research by the Spanish bank BBVA showed that the cost of a Chinese car in Europe is generally twice that of its price tag in the domestic market. BYD’s entry level Dolphin car sells at just over £30,000, almost three times its price in China £10,900. By contrast the Polestar 3 selling at £53,000 in the UK just 64% higher than its list price in China. The biggest markets for Chinese EVs in Europe are Germany, the UK and France, followed by Norway, Belgium and Italy. Of the 208,872 EVs sold in Europe in June, just more than 43,400 were sold in Germany, down 18% month on month. In the UK, sales increased 7.4% to 34,000, while in France they dropped 10% to just under 30,000. Earlier this year, the European Automobile Manufacturers’ Association (ACEA) car industry trade body showed a massive jump in Chinese electric battery car sales in Europe, a category that strips out plug-ins or hybrid cars. In 2023 Chinese-made electric battery cars, including Tesla and EU brands made in China, accounted for 21.7% of all sales, up from 2.9% in 2020. Chinese brands accounted for 8% of that market share, ACEA data showed.\n",
      "Global sales at the drinks multinational Diageo have declined for the first time since the Covid pandemic, although Great Britain bucked the trend thanks to a rise in the popularity of Guinness and related drinks. Sales increased 5% in Great Britain, a rise credited to the rise in popularity of the Irish stout and spin-offs such as an alcohol-free version and its Nitrosurge home-pouring technology. Diageo said overall sales of its beer brands grew 18% globally over its last fiscal year, primarily driven by Guinness. Great Britain and Ireland provided the biggest boost to the leading brand, and sales of the non-alcoholic Guinness 0.0 more than doubled year on year globally.   Related: Wetherspoons boss Tim Martin nets nearly £10m from share sale   However, sales of spirits declined 1% across Diageo’s European markets. Strong growth in raki and Baileys was more than offset by the falling popularity of its scotch, gin and rum portfolio. Shares fell 9% to a four-year low at one point on Tuesday after the sales figures were released. The company said that over the last financial year it had increased its spend on marketing by 4%, with a focus on tequila, beer and its Johnnie Walker brand. Diageo said sales across Europe grew 3% at an organic level, driven by double-digit percentage growth in Turkey and mid-single-digit growth in Great Britain and Ireland. “Diageo Europe delivered a strong performance with market share growth across most European markets despite persistent cost inflation and lower consumer confidence,” the company said. However, total net sales fell 1.4% to $20.3bn and annual operating profit was down 4.8% to $304m, of which the company blamed $302m on the Latin American and Caribbean region. Last autumn Diageo said economic pressures in the region had pushed consumers to drink less and switch to cheaper options. The Diageo chief executive, Debra Crew, said the company had taken steps to resolve its problems in the region and improve its performance elsewhere. “We are confident that when the consumer environment improves, the actions we are taking will return us to growth,” she said. In North America sales declined 2% as consumers cut back on drinking tequila, sales of which fell by 5%. The company’s Casamigos brand experienced a 22% fall in sales but its stablemate Don Julio grew by 22%. Sales of vodka fell 8% by in North America. Crew said it was “hard to call” when Diageo would be able to meet its medium-term sales target, adding that this was affected by factors such as high inflation and consumer confidence.\n",
      "If you’ve ever awkwardly scrambled to find a pen to fill in the incoming passenger card on a flight into Australia, you’re not alone. A report from the Australian Chamber of Commerce and Industry called for the paper cards to be abolished, one of several recommendations aimed at modernising Australian air and seaports’ passenger processing. The paper cards, a staple of air travel to Australia, were dubbed “antiquated” by the chamber, who warned their use risked Australia’s reputation as a desirable destination for tourists. The card asks passengers to declare food, plant material and animal products, as well as to provide personal details like your address in Australia, passport number and an emergency contact.  Sign up for Guardian Australia’s free morning and afternoon email newsletters for your daily news roundup  The report also called for multiple-entry visas available for key markets such as India and China, replacing the SmartGate system with “passenger on the move” technology and to ensure an appropriate amount of air traffic in and out of Australian airports in a bid to keep prices competitive. The Australian Chamber – Tourism executive chair, John Hart, said modernising the inbound and outbound passenger experience could mean huge revenue for the tourism industry.   Related: Storms, fires and floods: Blue Mountains Jenolan Caves to close after series of unforgiving weather events   “We estimate the changes would bring in an additional $50bn a year with appropriate targeting and with the appropriate reputation. We have done the analysis and we believe the gap is that wide.” Hart said the incoming passenger cards were a “huge sticking point in terms of reputation”. “Most aircrafts don’t have a supply of 400 pens to be handing around to people as they arrive. Just seeing those visions of people handing around a biro, standing around baggage claim filling them out, it’s absurd.” “Especially when 90% of the information on the form has already been given to three or four people in the supply chain, like airlines or hotels.” He said it was about eliminating the “annoying” parts of the inbound and outbound passenger process, in a bid to attract more return visitations.  “We are at the end of the Earth, so we need to be attracting high-value travellers that make the journey worthwhile.” According to the World Economic Forum, Australia ranks 53rd for ground and port infrastructure and 112th for price competitiveness out of 119 countries. The report said it was “imperative” that barriers preventing international visitors from travelling to Australia were reduced or, where possible, removed. “Many of these barriers exist in the form of expensive and complex visas. This part of the traveller journey – towards the beginning of any inbound traveller’s journey – could easily be the reason a prospective traveller reconsiders Australia as a destination,” the report read. “There is a clear need to adopt emerging technology in better facilitating travellers in and out of Australia.” “Whether this be through check-in services or collecting required data through immigration, Australia is being left behind in its resistance to embrace this technology.”\n",
      "UK consumers have cut back on summer spending amid the impact of poor weather and the cost of living crisis, figures show, underscoring the challenge for the Bank of England ahead of its interest rate decision on Thursday. In a sign of weakness in consumer spending over the summer months, figures from the British Retail Consortium (BRC) show that clothing and footwear prices fell for the seventh consecutive month in July as weak demand persisted. Separate figures from the Bank of England show that credit-card borrowing also slumped in June as poor weather for the time of year and concerns about the cost of living deterred households from spending. The figures came as financial markets predict the Bank’s interest rate decision on Thursday will be on a knife edge as policymakers consider whether to cut borrowing costs for the first time since the Covid pandemic.   Related: Bank of England set to rain on hopes of interest rate cut after economic bounce   After a drop in headline inflation to the government’s 2% target for two consecutive months, City economists believe Threadneedle Street’s monetary policy committee could narrowly vote to cut interest rates from the current level of 5.25%. The Bank has said its decision will rest on whether price growth in the service sector of the economy is slowing, and whether Britain’s jobs market is cooling to levels consistent with keeping inflation near 2%. Reflecting subdued consumer appetite as households held back from spending, the BRC figures show annual shop price inflation was unchanged in July at 0.2%. This was below the three-month average rate of 0.3%, and the lowest rate since October 2021. Non-food price deflation, which means prices are falling compared with a year ago, continued at 0.9%, marginal slower than 1% in June, as retailers cut their prices in an attempt to lure reluctant consumers. The BRC’s chief executive, Helen Dickinson, said: “Holidaymakers could pick up bargain summer wear and summer reads as clothing and footwear prices fell for the seventh consecutive month amidst persistent weak demand, and the prices of books fell.” The Bank’s figures show that net consumer credit borrowing fell from £1.5bn in May to to £1.2bn in June, missing City economists’ forecasts for a stronger growth rate as households held back from borrowing to finance their spending. The global and UK head of financial services at the accountancy firm KPMG, Karim Haji, said the figures showed that customers were yet to feel the effects of recent stronger levels of economic growth and lower inflation. “What is clear is that despite two straight months of inflation remaining on target, households aren’t necessarily feeling better off for it,” he said. ”Indeed, wage growth has slowed in recent months, which may go some way to explaining this.” Retailers, however, are hopeful that a pickup in spending could come given a rise in footfall at UK shopping destinations after the start of the school summer holidays last week. The data provider MRI Software said footfall rose by 4.8% in all retail destinations compared with the previous week, led by a 6.9% jump in shopping centre activity, a 4.4% rise in visits to high streets and a 3.3% increase at retail parks. The Bank’s latest snapshot also shows that net mortgage approvals, which indicate future levels of borrowing, remained largely unchanged in June from a month earlier, in a sign of the property market treading water before the general election and Thursday’s rate decision. RBC Capital Markets’ European housebuilding analyst, Anthony Codling, said: “Stability is good, but in our view, the UK housing market appears to be treading water, waiting for, hoping for the first Bank Rate cut. There is a small chance that cut could come on Thursday, but we believe the first cut is more likely in September. Once mortgage rates start to fall, we expect housing market activity to pick up.”\n"
     ]
    }
   ],
   "source": [
    "content_list=df['Content'].to_list()\n",
    "for i in content_list:\n",
    "    print(i)"
   ]
  },
  {
   "cell_type": "code",
   "execution_count": 10,
   "metadata": {},
   "outputs": [],
   "source": [
    "import nltk"
   ]
  },
  {
   "cell_type": "code",
   "execution_count": 11,
   "metadata": {},
   "outputs": [
    {
     "name": "stderr",
     "output_type": "stream",
     "text": [
      "[nltk_data] Downloading package vader_lexicon to C:\\Users\\RUTHVIK\n",
      "[nltk_data]     REDDY\\AppData\\Roaming\\nltk_data...\n",
      "[nltk_data]   Package vader_lexicon is already up-to-date!\n"
     ]
    },
    {
     "data": {
      "text/plain": [
       "True"
      ]
     },
     "execution_count": 11,
     "metadata": {},
     "output_type": "execute_result"
    }
   ],
   "source": [
    "nltk.download('vader_lexicon')"
   ]
  },
  {
   "cell_type": "code",
   "execution_count": 12,
   "metadata": {},
   "outputs": [],
   "source": [
    "import nltk\n",
    "from nltk.sentiment.vader import SentimentIntensityAnalyzer\n",
    "analyzer = SentimentIntensityAnalyzer()\n",
    "\n",
    "sentiment_list=[]\n",
    "for i in content_list:\n",
    "    temp=analyzer.polarity_scores(i)\n",
    "    sentiment_list.append(temp)"
   ]
  },
  {
   "cell_type": "code",
   "execution_count": 13,
   "metadata": {},
   "outputs": [
    {
     "data": {
      "text/plain": [
       "[{'neg': 0.109, 'neu': 0.875, 'pos': 0.017, 'compound': -0.9864},\n",
       " {'neg': 0.064, 'neu': 0.811, 'pos': 0.125, 'compound': 0.9905},\n",
       " {'neg': 0.1, 'neu': 0.851, 'pos': 0.049, 'compound': -0.9871},\n",
       " {'neg': 0.072, 'neu': 0.801, 'pos': 0.127, 'compound': 0.9999},\n",
       " {'neg': 0.041, 'neu': 0.878, 'pos': 0.081, 'compound': 0.9804},\n",
       " {'neg': 0.022, 'neu': 0.855, 'pos': 0.123, 'compound': 0.996},\n",
       " {'neg': 0.036, 'neu': 0.881, 'pos': 0.083, 'compound': 0.9942},\n",
       " {'neg': 0.051, 'neu': 0.872, 'pos': 0.076, 'compound': 0.8749},\n",
       " {'neg': 0.073, 'neu': 0.826, 'pos': 0.1, 'compound': 0.9368},\n",
       " {'neg': 0.081, 'neu': 0.851, 'pos': 0.068, 'compound': -0.9691},\n",
       " {'neg': 0.085, 'neu': 0.793, 'pos': 0.123, 'compound': 0.9677},\n",
       " {'neg': 0.008, 'neu': 0.944, 'pos': 0.048, 'compound': 0.9603},\n",
       " {'neg': 0.03, 'neu': 0.845, 'pos': 0.126, 'compound': 0.9865},\n",
       " {'neg': 0.019, 'neu': 0.9, 'pos': 0.08, 'compound': 0.9793},\n",
       " {'neg': 0.062, 'neu': 0.873, 'pos': 0.065, 'compound': 0.5372}]"
      ]
     },
     "execution_count": 13,
     "metadata": {},
     "output_type": "execute_result"
    }
   ],
   "source": [
    "sentiment_list"
   ]
  },
  {
   "cell_type": "code",
   "execution_count": 14,
   "metadata": {},
   "outputs": [
    {
     "name": "stdout",
     "output_type": "stream",
     "text": [
      "15\n"
     ]
    }
   ],
   "source": [
    "compound_list=[]\n",
    "for i in sentiment_list:\n",
    "    temp=i.get('compound')\n",
    "    compound_list.append(temp)\n",
    "compound_list\n",
    "print(len(compound_list))"
   ]
  },
  {
   "cell_type": "code",
   "execution_count": 15,
   "metadata": {},
   "outputs": [
    {
     "data": {
      "text/plain": [
       "0     2024-07-30T18:14:09Z\n",
       "1     2024-07-30T17:52:23Z\n",
       "2     2024-07-30T16:10:19Z\n",
       "3     2024-07-30T15:41:55Z\n",
       "4     2024-07-30T15:00:12Z\n",
       "5     2024-07-30T13:15:01Z\n",
       "6     2024-07-30T13:00:39Z\n",
       "7     2024-07-30T12:45:10Z\n",
       "8     2024-07-30T12:22:55Z\n",
       "9     2024-07-30T12:21:38Z\n",
       "10    2024-07-30T12:07:33Z\n",
       "11    2024-07-30T10:44:17Z\n",
       "12    2024-07-30T07:55:27Z\n",
       "13    2024-07-30T06:53:11Z\n",
       "14    2024-07-30T04:00:03Z\n",
       "Name: Publication Date, dtype: object"
      ]
     },
     "execution_count": 15,
     "metadata": {},
     "output_type": "execute_result"
    }
   ],
   "source": [
    "df['Publication Date']"
   ]
  },
  {
   "cell_type": "code",
   "execution_count": 16,
   "metadata": {},
   "outputs": [
    {
     "name": "stdout",
     "output_type": "stream",
     "text": [
      "2024-07-30T18:14:09Z\n",
      "2024-07-30T17:52:23Z\n",
      "2024-07-30T16:10:19Z\n",
      "2024-07-30T15:41:55Z\n",
      "2024-07-30T15:00:12Z\n",
      "2024-07-30T13:15:01Z\n",
      "2024-07-30T13:00:39Z\n",
      "2024-07-30T12:45:10Z\n",
      "2024-07-30T12:22:55Z\n",
      "2024-07-30T12:21:38Z\n",
      "2024-07-30T12:07:33Z\n",
      "2024-07-30T10:44:17Z\n",
      "2024-07-30T07:55:27Z\n",
      "2024-07-30T06:53:11Z\n",
      "2024-07-30T04:00:03Z\n"
     ]
    }
   ],
   "source": [
    "publication_date_list=df['Publication Date'].to_list()\n",
    "for i in publication_date_list:\n",
    "    print(i)"
   ]
  },
  {
   "cell_type": "code",
   "execution_count": 17,
   "metadata": {},
   "outputs": [],
   "source": [
    "df['Compound']=compound_list"
   ]
  },
  {
   "cell_type": "code",
   "execution_count": 18,
   "metadata": {},
   "outputs": [
    {
     "name": "stdout",
     "output_type": "stream",
     "text": [
      "['20240730', '20240730', '20240730', '20240730', '20240730', '20240730', '20240730', '20240730', '20240730', '20240730', '20240730', '20240730', '20240730', '20240730', '20240730']\n",
      "15\n"
     ]
    }
   ],
   "source": [
    "import pandas as pd\n",
    "\n",
    "# Sample list of date strings in ISO 8601 format\n",
    "#publication_date_list = ['2024-07-30T18:14:09Z', '2024-07-31T09:25:30Z', '2024-08-01T15:00:00Z']\n",
    "\n",
    "# Convert the list of date strings to datetime objects\n",
    "dates = pd.to_datetime(publication_date_list)\n",
    "\n",
    "# Extract and format the date part in the \"YYYYMMDD\" format\n",
    "formatted_dates = dates.strftime('%Y%m%d')\n",
    "\n",
    "# Convert the formatted dates to a list\n",
    "formatted_dates_list = formatted_dates.tolist()\n",
    "\n",
    "# Display the resulting list\n",
    "print(formatted_dates_list)\n",
    "print(len(formatted_dates_list))"
   ]
  },
  {
   "cell_type": "code",
   "execution_count": 19,
   "metadata": {},
   "outputs": [
    {
     "name": "stdout",
     "output_type": "stream",
     "text": [
      "                                               Title      Publication Date  \\\n",
      "0  Royal Mail’s app lets customers detect counter...  2024-07-30T18:14:09Z   \n",
      "1  Diageo needs to raise shareholder spirits – an...  2024-07-30T17:52:23Z   \n",
      "2  Reeves accuses Hunt of £22bn lie; nonsense, he...  2024-07-30T16:10:19Z   \n",
      "3  Germany on brink of recession; eurozone beats ...  2024-07-30T15:41:55Z   \n",
      "4  Australia’s inflation rise could light the fus...  2024-07-30T15:00:12Z   \n",
      "\n",
      "                                                 URL  \\\n",
      "0  https://www.theguardian.com/business/article/2...   \n",
      "1  https://www.theguardian.com/business/article/2...   \n",
      "2  https://www.theguardian.com/business/article/2...   \n",
      "3  https://www.theguardian.com/business/live/2024...   \n",
      "4  https://www.theguardian.com/business/article/2...   \n",
      "\n",
      "                                             Content  Compound Formatted Dates  \n",
      "0  Royal Mail has launched a scanner tool in its ...   -0.9864        20240730  \n",
      "1  For most of the past 15 years, Diageo was poss...    0.9905        20240730  \n",
      "2  Rachel Reeves has accused Jeremy Hunt, her pre...   -0.9871        20240730  \n",
      "3    4.41pm BST  Closing post  Time for a recap. ...    0.9999        20240730  \n",
      "4  The fortunes of Australia’s economy – and poli...    0.9804        20240730  \n"
     ]
    }
   ],
   "source": [
    "df['Formatted Dates']=formatted_dates_list\n",
    "print(df.head())"
   ]
  },
  {
   "cell_type": "code",
   "execution_count": 20,
   "metadata": {},
   "outputs": [
    {
     "name": "stdout",
     "output_type": "stream",
     "text": [
      "15\n",
      "15\n",
      "15\n"
     ]
    }
   ],
   "source": [
    "print(len(compound_list))\n",
    "print(len(formatted_dates_list))\n",
    "print(len(df['Formatted Dates']))"
   ]
  },
  {
   "cell_type": "code",
   "execution_count": 21,
   "metadata": {},
   "outputs": [
    {
     "name": "stdout",
     "output_type": "stream",
     "text": [
      "[0.55074]\n",
      "1\n"
     ]
    }
   ],
   "source": [
    "import pandas as pd\n",
    "\n",
    "# Sample data\n",
    "# formatted_dates_list = ['2024-07-30', '2024-07-30', '2024-07-31', '2024-07-31', '2024-08-01']\n",
    "# compound_list = [10, 20, 30, 40, 50]\n",
    "\n",
    "# Create a DataFrame from the lists\n",
    "df = pd.DataFrame({\n",
    "    'Date': formatted_dates_list,\n",
    "    'Compound': compound_list\n",
    "})\n",
    "\n",
    "# Group by 'Date' and calculate the average of 'Compound'\n",
    "avg_compound = df.groupby('Date')['Compound'].mean().reset_index()\n",
    "\n",
    "# Convert the average values to a list\n",
    "avg_compound_list = avg_compound['Compound'].tolist()\n",
    "\n",
    "# Display the resulting list\n",
    "print(avg_compound_list)\n",
    "print(len(avg_compound_list))"
   ]
  },
  {
   "cell_type": "code",
   "execution_count": 22,
   "metadata": {},
   "outputs": [
    {
     "name": "stdout",
     "output_type": "stream",
     "text": [
      "timestamp,open,high,low,close,volume\n",
      "2024-08-13,165.1850,166.5400,164.7700,165.9300,12717628\n",
      "2024-08-12,165.9950,166.7000,163.5500,163.9500,12434969\n",
      "2024-08-09,161.6450,165.5200,160.9300,165.3900,13549230\n",
      "2024-08-08,162.3440,165.5000,162.0300,163.8400,15733612\n",
      "2024-08-07,163.2400,164.7900,160.2400,160.7500,19334246\n",
      "2024-08-06,160.9450,162.3500,158.1300,160.5400,36146541\n",
      "2024-08-05,157.3700,165.9400,156.6000,160.6400,34907815\n",
      "2024-08-02,168.1900,170.2100,166.3900,168.4000,18907773\n",
      "2024-08-01,171.9800,175.6800,170.5100,172.4500,17177833\n",
      "2024-07-31,174.9200,175.9100,171.7200,173.1500,15650154\n",
      "2024-07-30,171.8300,172.9500,170.1200,171.8600,13681418\n",
      "2024-07-29,170.5000,172.1600,169.7200,171.1300,13768931\n",
      "2024-07-26,168.7700,169.8400,165.8650,168.6800,25150116\n",
      "2024-07-25,174.2500,175.2000,169.0500,169.1600,28967880\n",
      "2024-07-24,175.3900,177.9500,173.5700,174.3700,31250683\n",
      "2024-07-23,183.8400,185.2200,183.3300,183.6000,23772602\n",
      "2024-07-22,182.3500,184.3000,181.9000,183.3500,16303896\n",
      "2024-07-19,180.3700,181.9700,178.8600,179.3900,14485899\n",
      "2024-07-18,183.5400,184.0500,178.2100,179.2200,17877197\n",
      "2024-07-17,184.6800,185.2300,181.6200,182.6200,17376563\n",
      "2024-07-16,188.9600,190.3400,185.1200,185.5000,12760102\n",
      "2024-07-15,186.4900,189.9000,186.4900,188.1900,12186015\n",
      "2024-07-12,186.9200,188.6900,186.1400,186.7800,14449113\n",
      "2024-07-11,191.3400,192.4100,186.8200,187.3000,16451981\n",
      "2024-07-10,190.7500,193.3100,190.6200,192.6600,12052906\n",
      "2024-07-09,191.7500,192.8600,190.2300,190.4400,10224925\n",
      "2024-07-08,191.3650,191.6791,189.3200,190.4800,12097611\n",
      "2024-07-05,187.3200,192.2600,187.3200,191.9600,14303361\n",
      "2024-07-03,186.3000,187.6200,185.3850,187.3900,7409106\n",
      "2024-07-02,183.4700,186.9500,183.0600,186.6100,12555545\n",
      "2024-07-01,184.4800,185.3400,182.7300,184.4900,11815862\n",
      "2024-06-28,185.7200,186.5800,183.3250,183.4200,23032362\n",
      "2024-06-27,185.6450,187.5000,185.4500,186.8600,13025656\n",
      "2024-06-26,184.2000,185.9300,183.9900,185.3700,13375715\n",
      "2024-06-25,181.1450,185.7500,181.1050,185.5800,18917734\n",
      "2024-06-24,181.2800,182.0800,180.2300,180.7900,18198282\n",
      "2024-06-21,178.4900,182.5117,178.0600,180.2600,59728019\n",
      "2024-06-20,176.7100,178.7400,176.4600,177.7100,16753166\n",
      "2024-06-18,178.7900,178.9100,175.6200,176.4500,15640257\n",
      "2024-06-17,176.9800,179.9200,176.4900,178.7800,15272864\n",
      "2024-06-14,175.8520,178.7300,175.8520,178.3700,12361571\n",
      "2024-06-13,177.8400,178.5100,176.6600,176.7400,15956941\n",
      "2024-06-12,179.7500,182.0800,177.7800,179.5600,18600421\n",
      "2024-06-11,177.7200,178.3900,175.4400,178.1900,14402401\n",
      "2024-06-10,176.4500,178.4700,174.3800,176.6300,17122247\n",
      "2024-06-07,178.4600,179.4200,175.7900,175.9500,14716270\n",
      "2024-06-06,177.4300,178.7100,177.2100,178.3500,14255818\n",
      "2024-06-05,176.5350,177.9700,175.2900,177.0700,15233861\n",
      "2024-06-04,174.4500,175.1900,173.2200,175.1300,14066602\n",
      "2024-06-03,173.8800,175.8600,172.4500,174.4200,20742798\n",
      "2024-05-31,173.4000,174.4200,170.9700,173.9600,28085151\n",
      "2024-05-30,176.6900,176.6900,173.2300,173.5600,18844036\n",
      "2024-05-29,176.8100,178.2300,176.2600,177.4000,15023847\n",
      "2024-05-28,175.7400,178.5100,175.6800,178.0200,15655340\n",
      "2024-05-24,176.5200,177.3044,175.2000,176.3300,11403560\n",
      "2024-05-23,178.7800,179.9100,174.5400,175.0600,14928363\n",
      "2024-05-22,178.4000,178.8520,176.7801,178.0000,16189404\n",
      "2024-05-21,178.4000,179.8200,177.3100,179.5400,14706021\n",
      "2024-05-20,177.3100,179.9500,177.2250,178.4600,17495122\n",
      "2024-05-17,175.5500,177.4950,174.9800,177.2900,16546353\n",
      "2024-05-16,174.6000,176.3400,174.0500,175.4300,17247311\n",
      "2024-05-15,172.3000,174.0459,172.0300,173.8800,20958245\n",
      "2024-05-14,171.5900,172.7800,170.4200,171.9300,18729463\n",
      "2024-05-13,165.8470,170.9500,165.7600,170.9000,19648585\n",
      "2024-05-10,169.6900,171.3400,167.9100,170.2900,18740458\n",
      "2024-05-09,171.1500,172.4400,169.9300,171.5800,11937704\n",
      "2024-05-08,170.7500,171.9092,170.5220,171.1600,14569858\n",
      "2024-05-07,170.1200,173.4700,170.0000,172.9800,21102434\n",
      "2024-05-06,169.2200,169.9000,167.8900,169.8300,15147906\n",
      "2024-05-03,169.5400,169.8500,164.9800,168.9900,22767056\n",
      "2024-05-02,166.6700,168.5300,165.6900,168.4600,17041119\n",
      "2024-05-01,166.1800,168.8100,164.9000,165.5700,25223245\n",
      "2024-04-30,167.3800,169.8700,164.5000,164.6400,29420755\n",
      "2024-04-29,170.7700,171.3800,167.0600,167.9000,35914561\n",
      "2024-04-26,175.9900,176.4200,171.4000,173.6900,56500787\n",
      "2024-04-25,153.3600,158.2800,152.7680,157.9500,36197789\n",
      "2024-04-24,159.0900,161.3900,158.8200,161.1000,19485694\n",
      "2024-04-23,158.5900,160.4800,157.9650,159.9200,16115408\n",
      "2024-04-22,156.0100,159.1850,155.6600,157.9500,17243870\n",
      "2024-04-19,157.7500,157.9900,153.9100,155.7200,21479881\n",
      "2024-04-18,156.9250,158.4850,156.2100,157.4600,14016065\n",
      "2024-04-17,157.1900,158.6810,156.1350,156.8800,16237752\n",
      "2024-04-16,155.6400,157.2300,155.0500,156.0000,15413201\n",
      "2024-04-15,160.2800,160.8300,156.1500,156.3300,21140948\n",
      "2024-04-12,159.4050,161.7000,158.6000,159.1900,16989765\n",
      "2024-04-11,158.3400,161.1199,157.9300,160.7900,17841703\n",
      "2024-04-10,157.8800,158.1600,156.2000,157.6600,16339174\n",
      "2024-04-09,157.3500,159.8900,156.6400,158.1400,21435146\n",
      "2024-04-08,154.0150,156.6550,153.9900,156.1400,16280924\n",
      "2024-04-05,151.6800,154.8400,151.0810,153.9400,16212049\n",
      "2024-04-04,155.0800,156.1800,151.8800,151.9400,23901697\n",
      "2024-04-03,154.9200,156.5500,154.1321,156.3700,16984168\n",
      "2024-04-02,154.7500,155.9900,153.4600,155.8700,17549140\n",
      "2024-04-01,151.8300,157.0000,151.6500,156.5000,24416137\n",
      "2024-03-28,152.0000,152.6700,151.3300,152.2600,21105628\n",
      "2024-03-27,152.1450,152.6900,150.1300,151.9400,16621964\n",
      "2024-03-26,151.2400,153.2000,151.0300,151.7000,19312694\n",
      "2024-03-25,150.9500,151.4560,148.8000,151.1500,15114728\n",
      "2024-03-22,150.2400,152.5600,150.0900,151.7700,19252925\n",
      "2024-03-21,150.3200,151.3050,148.0101,148.7400,19843915\n",
      "\n"
     ]
    }
   ],
   "source": [
    "import requests\n",
    "\n",
    "company = \"GOOG\"\n",
    "api_key = \"COOFAIV9AV9SVV19\"\n",
    "url = f'https://www.alphavantage.co/query?function=TIME_SERIES_DAILY&outputsize=compact&symbol={company}&apikey={api_key}&datatype=csv'\n",
    "r = requests.get(url)\n",
    "data = r.text\n",
    "\n",
    "print(data)"
   ]
  },
  {
   "cell_type": "code",
   "execution_count": 23,
   "metadata": {},
   "outputs": [
    {
     "name": "stdout",
     "output_type": "stream",
     "text": [
      "    timestamp     open    high     low   close    volume\n",
      "0  2024-08-13  165.185  166.54  164.77  165.93  12717628\n",
      "1  2024-08-12  165.995  166.70  163.55  163.95  12434969\n",
      "2  2024-08-09  161.645  165.52  160.93  165.39  13549230\n",
      "3  2024-08-08  162.344  165.50  162.03  163.84  15733612\n",
      "4  2024-08-07  163.240  164.79  160.24  160.75  19334246\n",
      "100\n"
     ]
    }
   ],
   "source": [
    "import pandas as pd\n",
    "import requests\n",
    "from io import StringIO\n",
    "df = pd.read_csv(StringIO(data))\n",
    "\n",
    "print(df.head())\n",
    "print(len(df['close']))"
   ]
  },
  {
   "cell_type": "code",
   "execution_count": 24,
   "metadata": {},
   "outputs": [
    {
     "name": "stdout",
     "output_type": "stream",
     "text": [
      "    timestamp     open      high      low   close    volume\n",
      "0  2024-08-13  165.185  166.5400  164.770  165.93  12717628\n",
      "1  2024-08-12  165.995  166.7000  163.550  163.95  12434969\n",
      "2  2024-08-09  161.645  165.5200  160.930  165.39  13549230\n",
      "3  2024-08-08  162.344  165.5000  162.030  163.84  15733612\n",
      "4  2024-08-07  163.240  164.7900  160.240  160.75  19334246\n",
      "5  2024-08-06  160.945  162.3500  158.130  160.54  36146541\n",
      "6  2024-08-05  157.370  165.9400  156.600  160.64  34907815\n",
      "7  2024-08-02  168.190  170.2100  166.390  168.40  18907773\n",
      "8  2024-08-01  171.980  175.6800  170.510  172.45  17177833\n",
      "9  2024-07-31  174.920  175.9100  171.720  173.15  15650154\n",
      "10 2024-07-30  171.830  172.9500  170.120  171.86  13681418\n",
      "11 2024-07-29  170.500  172.1600  169.720  171.13  13768931\n",
      "12 2024-07-26  168.770  169.8400  165.865  168.68  25150116\n",
      "13 2024-07-25  174.250  175.2000  169.050  169.16  28967880\n",
      "14 2024-07-24  175.390  177.9500  173.570  174.37  31250683\n",
      "15 2024-07-23  183.840  185.2200  183.330  183.60  23772602\n",
      "16 2024-07-22  182.350  184.3000  181.900  183.35  16303896\n",
      "17 2024-07-19  180.370  181.9700  178.860  179.39  14485899\n",
      "18 2024-07-18  183.540  184.0500  178.210  179.22  17877197\n",
      "19 2024-07-17  184.680  185.2300  181.620  182.62  17376563\n",
      "20 2024-07-16  188.960  190.3400  185.120  185.50  12760102\n",
      "21 2024-07-15  186.490  189.9000  186.490  188.19  12186015\n",
      "22 2024-07-12  186.920  188.6900  186.140  186.78  14449113\n",
      "23 2024-07-11  191.340  192.4100  186.820  187.30  16451981\n",
      "24 2024-07-10  190.750  193.3100  190.620  192.66  12052906\n",
      "25 2024-07-09  191.750  192.8600  190.230  190.44  10224925\n",
      "26 2024-07-08  191.365  191.6791  189.320  190.48  12097611\n"
     ]
    }
   ],
   "source": [
    "# Define the start date for removal\n",
    "start_date = '2024-07-08'\n",
    "\n",
    "# Ensure the 'Date' column is in datetime format\n",
    "df['timestamp'] = pd.to_datetime(df['timestamp'])\n",
    "\n",
    "# Filter the DataFrame to exclude rows with the specified start date and later\n",
    "df_filtered = df[df['timestamp'] >= start_date]\n",
    "\n",
    "# Display the filtered DataFrame\n",
    "print(df_filtered)\n"
   ]
  },
  {
   "cell_type": "code",
   "execution_count": 25,
   "metadata": {},
   "outputs": [],
   "source": [
    "#Automate everything\n",
    "#day by day news -> Process semantic score -> avg the compound of the day's score -> add it into particular date row"
   ]
  }
 ],
 "metadata": {
  "kernelspec": {
   "display_name": "base",
   "language": "python",
   "name": "python3"
  },
  "language_info": {
   "codemirror_mode": {
    "name": "ipython",
    "version": 3
   },
   "file_extension": ".py",
   "mimetype": "text/x-python",
   "name": "python",
   "nbconvert_exporter": "python",
   "pygments_lexer": "ipython3",
   "version": "3.12.4"
  }
 },
 "nbformat": 4,
 "nbformat_minor": 2
}
